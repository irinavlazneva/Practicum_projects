{
 "cells": [
  {
   "cell_type": "markdown",
   "id": "cf3fd12c",
   "metadata": {},
   "source": [
    "\n",
    "Проект: Статестический анализ данных \n",
    "\n",
    "Цель проекта: Проанализировать требуемые данные и проверить некоторые гипотезы."
   ]
  },
  {
   "cell_type": "markdown",
   "id": "4ce5a2c6",
   "metadata": {},
   "source": []
  },
  {
   "cell_type": "markdown",
   "id": "c42cbe00",
   "metadata": {},
   "source": [
    "#### Шаг 1. Загрузка данных\n"
   ]
  },
  {
   "cell_type": "code",
   "execution_count": 3,
   "id": "eff9f206",
   "metadata": {},
   "outputs": [],
   "source": [
    "import pandas as pd\n",
    "import seaborn as sns\n",
    "import matplotlib.pyplot as plt\n",
    "import numpy as np\n",
    "from math import factorial\n",
    "from scipy import stats as st"
   ]
  },
  {
   "cell_type": "code",
   "execution_count": 4,
   "id": "60c55ae0",
   "metadata": {},
   "outputs": [],
   "source": [
    "users_go = pd.read_csv('//datasets/users_go.csv')\n",
    "rides_go = pd.read_csv('/datasets/rides_go.csv')\n",
    "subscriptions_go = pd.read_csv('/datasets/subscriptions_go.csv')"
   ]
  },
  {
   "cell_type": "code",
   "execution_count": 5,
   "id": "922bd703",
   "metadata": {},
   "outputs": [
    {
     "data": {
      "text/html": [
       "<div>\n",
       "<style scoped>\n",
       "    .dataframe tbody tr th:only-of-type {\n",
       "        vertical-align: middle;\n",
       "    }\n",
       "\n",
       "    .dataframe tbody tr th {\n",
       "        vertical-align: top;\n",
       "    }\n",
       "\n",
       "    .dataframe thead th {\n",
       "        text-align: right;\n",
       "    }\n",
       "</style>\n",
       "<table border=\"1\" class=\"dataframe\">\n",
       "  <thead>\n",
       "    <tr style=\"text-align: right;\">\n",
       "      <th></th>\n",
       "      <th>user_id</th>\n",
       "      <th>name</th>\n",
       "      <th>age</th>\n",
       "      <th>city</th>\n",
       "      <th>subscription_type</th>\n",
       "    </tr>\n",
       "  </thead>\n",
       "  <tbody>\n",
       "    <tr>\n",
       "      <th>0</th>\n",
       "      <td>1</td>\n",
       "      <td>Кира</td>\n",
       "      <td>22</td>\n",
       "      <td>Тюмень</td>\n",
       "      <td>ultra</td>\n",
       "    </tr>\n",
       "    <tr>\n",
       "      <th>1</th>\n",
       "      <td>2</td>\n",
       "      <td>Станислав</td>\n",
       "      <td>31</td>\n",
       "      <td>Омск</td>\n",
       "      <td>ultra</td>\n",
       "    </tr>\n",
       "    <tr>\n",
       "      <th>2</th>\n",
       "      <td>3</td>\n",
       "      <td>Алексей</td>\n",
       "      <td>20</td>\n",
       "      <td>Москва</td>\n",
       "      <td>ultra</td>\n",
       "    </tr>\n",
       "    <tr>\n",
       "      <th>3</th>\n",
       "      <td>4</td>\n",
       "      <td>Константин</td>\n",
       "      <td>26</td>\n",
       "      <td>Ростов-на-Дону</td>\n",
       "      <td>ultra</td>\n",
       "    </tr>\n",
       "    <tr>\n",
       "      <th>4</th>\n",
       "      <td>5</td>\n",
       "      <td>Адель</td>\n",
       "      <td>28</td>\n",
       "      <td>Омск</td>\n",
       "      <td>ultra</td>\n",
       "    </tr>\n",
       "  </tbody>\n",
       "</table>\n",
       "</div>"
      ],
      "text/plain": [
       "   user_id        name  age            city subscription_type\n",
       "0        1        Кира   22          Тюмень             ultra\n",
       "1        2   Станислав   31            Омск             ultra\n",
       "2        3     Алексей   20          Москва             ultra\n",
       "3        4  Константин   26  Ростов-на-Дону             ultra\n",
       "4        5       Адель   28            Омск             ultra"
      ]
     },
     "execution_count": 5,
     "metadata": {},
     "output_type": "execute_result"
    }
   ],
   "source": [
    "users_go.head()"
   ]
  },
  {
   "cell_type": "code",
   "execution_count": 6,
   "id": "aaa6ddff",
   "metadata": {},
   "outputs": [
    {
     "data": {
      "text/html": [
       "<div>\n",
       "<style scoped>\n",
       "    .dataframe tbody tr th:only-of-type {\n",
       "        vertical-align: middle;\n",
       "    }\n",
       "\n",
       "    .dataframe tbody tr th {\n",
       "        vertical-align: top;\n",
       "    }\n",
       "\n",
       "    .dataframe thead th {\n",
       "        text-align: right;\n",
       "    }\n",
       "</style>\n",
       "<table border=\"1\" class=\"dataframe\">\n",
       "  <thead>\n",
       "    <tr style=\"text-align: right;\">\n",
       "      <th></th>\n",
       "      <th>user_id</th>\n",
       "      <th>distance</th>\n",
       "      <th>duration</th>\n",
       "      <th>date</th>\n",
       "    </tr>\n",
       "  </thead>\n",
       "  <tbody>\n",
       "    <tr>\n",
       "      <th>0</th>\n",
       "      <td>1</td>\n",
       "      <td>4409.919140</td>\n",
       "      <td>25.599769</td>\n",
       "      <td>2021-01-01</td>\n",
       "    </tr>\n",
       "    <tr>\n",
       "      <th>1</th>\n",
       "      <td>1</td>\n",
       "      <td>2617.592153</td>\n",
       "      <td>15.816871</td>\n",
       "      <td>2021-01-18</td>\n",
       "    </tr>\n",
       "    <tr>\n",
       "      <th>2</th>\n",
       "      <td>1</td>\n",
       "      <td>754.159807</td>\n",
       "      <td>6.232113</td>\n",
       "      <td>2021-04-20</td>\n",
       "    </tr>\n",
       "    <tr>\n",
       "      <th>3</th>\n",
       "      <td>1</td>\n",
       "      <td>2694.783254</td>\n",
       "      <td>18.511000</td>\n",
       "      <td>2021-08-11</td>\n",
       "    </tr>\n",
       "    <tr>\n",
       "      <th>4</th>\n",
       "      <td>1</td>\n",
       "      <td>4028.687306</td>\n",
       "      <td>26.265803</td>\n",
       "      <td>2021-08-28</td>\n",
       "    </tr>\n",
       "  </tbody>\n",
       "</table>\n",
       "</div>"
      ],
      "text/plain": [
       "   user_id     distance   duration        date\n",
       "0        1  4409.919140  25.599769  2021-01-01\n",
       "1        1  2617.592153  15.816871  2021-01-18\n",
       "2        1   754.159807   6.232113  2021-04-20\n",
       "3        1  2694.783254  18.511000  2021-08-11\n",
       "4        1  4028.687306  26.265803  2021-08-28"
      ]
     },
     "execution_count": 6,
     "metadata": {},
     "output_type": "execute_result"
    }
   ],
   "source": [
    "rides_go.head()"
   ]
  },
  {
   "cell_type": "code",
   "execution_count": 7,
   "id": "a3b900e5",
   "metadata": {},
   "outputs": [
    {
     "data": {
      "text/html": [
       "<div>\n",
       "<style scoped>\n",
       "    .dataframe tbody tr th:only-of-type {\n",
       "        vertical-align: middle;\n",
       "    }\n",
       "\n",
       "    .dataframe tbody tr th {\n",
       "        vertical-align: top;\n",
       "    }\n",
       "\n",
       "    .dataframe thead th {\n",
       "        text-align: right;\n",
       "    }\n",
       "</style>\n",
       "<table border=\"1\" class=\"dataframe\">\n",
       "  <thead>\n",
       "    <tr style=\"text-align: right;\">\n",
       "      <th></th>\n",
       "      <th>subscription_type</th>\n",
       "      <th>minute_price</th>\n",
       "      <th>start_ride_price</th>\n",
       "      <th>subscription_fee</th>\n",
       "    </tr>\n",
       "  </thead>\n",
       "  <tbody>\n",
       "    <tr>\n",
       "      <th>0</th>\n",
       "      <td>free</td>\n",
       "      <td>8</td>\n",
       "      <td>50</td>\n",
       "      <td>0</td>\n",
       "    </tr>\n",
       "    <tr>\n",
       "      <th>1</th>\n",
       "      <td>ultra</td>\n",
       "      <td>6</td>\n",
       "      <td>0</td>\n",
       "      <td>199</td>\n",
       "    </tr>\n",
       "  </tbody>\n",
       "</table>\n",
       "</div>"
      ],
      "text/plain": [
       "  subscription_type  minute_price  start_ride_price  subscription_fee\n",
       "0              free             8                50                 0\n",
       "1             ultra             6                 0               199"
      ]
     },
     "execution_count": 7,
     "metadata": {},
     "output_type": "execute_result"
    }
   ],
   "source": [
    "subscriptions_go.head()"
   ]
  },
  {
   "cell_type": "code",
   "execution_count": 8,
   "id": "69730ed4",
   "metadata": {},
   "outputs": [
    {
     "name": "stdout",
     "output_type": "stream",
     "text": [
      "<class 'pandas.core.frame.DataFrame'>\n",
      "RangeIndex: 1565 entries, 0 to 1564\n",
      "Data columns (total 5 columns):\n",
      " #   Column             Non-Null Count  Dtype \n",
      "---  ------             --------------  ----- \n",
      " 0   user_id            1565 non-null   int64 \n",
      " 1   name               1565 non-null   object\n",
      " 2   age                1565 non-null   int64 \n",
      " 3   city               1565 non-null   object\n",
      " 4   subscription_type  1565 non-null   object\n",
      "dtypes: int64(2), object(3)\n",
      "memory usage: 61.3+ KB\n"
     ]
    }
   ],
   "source": [
    "users_go.info()"
   ]
  },
  {
   "cell_type": "code",
   "execution_count": 9,
   "id": "f4251f25",
   "metadata": {},
   "outputs": [
    {
     "name": "stdout",
     "output_type": "stream",
     "text": [
      "<class 'pandas.core.frame.DataFrame'>\n",
      "RangeIndex: 18068 entries, 0 to 18067\n",
      "Data columns (total 4 columns):\n",
      " #   Column    Non-Null Count  Dtype  \n",
      "---  ------    --------------  -----  \n",
      " 0   user_id   18068 non-null  int64  \n",
      " 1   distance  18068 non-null  float64\n",
      " 2   duration  18068 non-null  float64\n",
      " 3   date      18068 non-null  object \n",
      "dtypes: float64(2), int64(1), object(1)\n",
      "memory usage: 564.8+ KB\n"
     ]
    }
   ],
   "source": [
    "rides_go.info()"
   ]
  },
  {
   "cell_type": "code",
   "execution_count": 10,
   "id": "cefed266",
   "metadata": {},
   "outputs": [
    {
     "name": "stdout",
     "output_type": "stream",
     "text": [
      "<class 'pandas.core.frame.DataFrame'>\n",
      "RangeIndex: 2 entries, 0 to 1\n",
      "Data columns (total 4 columns):\n",
      " #   Column             Non-Null Count  Dtype \n",
      "---  ------             --------------  ----- \n",
      " 0   subscription_type  2 non-null      object\n",
      " 1   minute_price       2 non-null      int64 \n",
      " 2   start_ride_price   2 non-null      int64 \n",
      " 3   subscription_fee   2 non-null      int64 \n",
      "dtypes: int64(3), object(1)\n",
      "memory usage: 192.0+ bytes\n"
     ]
    }
   ],
   "source": [
    "subscriptions_go.info()"
   ]
  },
  {
   "cell_type": "code",
   "execution_count": 11,
   "id": "89bea797",
   "metadata": {},
   "outputs": [
    {
     "data": {
      "image/png": "[encoded data removed]",
      "text/plain": [
       "<Figure size 432x216 with 2 Axes>"
      ]
     },
     "metadata": {
      "needs_background": "light"
     },
     "output_type": "display_data"
    }
   ],
   "source": [
    "users_go.hist(figsize=(6, 3))\n",
    "plt.show()"
   ]
  },
  {
   "cell_type": "code",
   "execution_count": 12,
   "id": "1150083d",
   "metadata": {},
   "outputs": [
    {
     "data": {
      "image/png": "[encoded data removed]",
      "text/plain": [
       "<Figure size 864x576 with 4 Axes>"
      ]
     },
     "metadata": {
      "needs_background": "light"
     },
     "output_type": "display_data"
    }
   ],
   "source": [
    "rides_go.hist(figsize=(12, 8))\n",
    "plt.show()"
   ]
  },
  {
   "cell_type": "markdown",
   "id": "2fbf7b09",
   "metadata": {},
   "source": [
    "Вывод: users_go содержит около 1500 строчек, rides_go чуть более 18 тысяч. В  датафрейме subscriptions_go 2 записи, пропуски отсутствуют, явных дубликатов не содержатся. "
   ]
  },
  {
   "cell_type": "markdown",
   "id": "4ef8a02f",
   "metadata": {},
   "source": []
  },
  {
   "cell_type": "markdown",
   "id": "e95ebca7",
   "metadata": {},
   "source": [
    "#### Шаг 2. Предобработка данных"
   ]
  },
  {
   "cell_type": "code",
   "execution_count": 13,
   "id": "af6d202c",
   "metadata": {},
   "outputs": [
    {
     "data": {
      "text/html": [
       "<div>\n",
       "<style scoped>\n",
       "    .dataframe tbody tr th:only-of-type {\n",
       "        vertical-align: middle;\n",
       "    }\n",
       "\n",
       "    .dataframe tbody tr th {\n",
       "        vertical-align: top;\n",
       "    }\n",
       "\n",
       "    .dataframe thead th {\n",
       "        text-align: right;\n",
       "    }\n",
       "</style>\n",
       "<table border=\"1\" class=\"dataframe\">\n",
       "  <thead>\n",
       "    <tr style=\"text-align: right;\">\n",
       "      <th></th>\n",
       "      <th>0</th>\n",
       "    </tr>\n",
       "  </thead>\n",
       "  <tbody>\n",
       "    <tr>\n",
       "      <th>user_id</th>\n",
       "      <td>0</td>\n",
       "    </tr>\n",
       "    <tr>\n",
       "      <th>name</th>\n",
       "      <td>0</td>\n",
       "    </tr>\n",
       "    <tr>\n",
       "      <th>age</th>\n",
       "      <td>0</td>\n",
       "    </tr>\n",
       "    <tr>\n",
       "      <th>city</th>\n",
       "      <td>0</td>\n",
       "    </tr>\n",
       "    <tr>\n",
       "      <th>subscription_type</th>\n",
       "      <td>0</td>\n",
       "    </tr>\n",
       "  </tbody>\n",
       "</table>\n",
       "</div>"
      ],
      "text/plain": [
       "                   0\n",
       "user_id            0\n",
       "name               0\n",
       "age                0\n",
       "city               0\n",
       "subscription_type  0"
      ]
     },
     "execution_count": 13,
     "metadata": {},
     "output_type": "execute_result"
    }
   ],
   "source": [
    "#анализ пропущенных значений\n",
    "users_go.isna().sum().to_frame()"
   ]
  },
  {
   "cell_type": "code",
   "execution_count": 14,
   "id": "22c6784b",
   "metadata": {},
   "outputs": [
    {
     "data": {
      "text/html": [
       "<div>\n",
       "<style scoped>\n",
       "    .dataframe tbody tr th:only-of-type {\n",
       "        vertical-align: middle;\n",
       "    }\n",
       "\n",
       "    .dataframe tbody tr th {\n",
       "        vertical-align: top;\n",
       "    }\n",
       "\n",
       "    .dataframe thead th {\n",
       "        text-align: right;\n",
       "    }\n",
       "</style>\n",
       "<table border=\"1\" class=\"dataframe\">\n",
       "  <thead>\n",
       "    <tr style=\"text-align: right;\">\n",
       "      <th></th>\n",
       "      <th>0</th>\n",
       "    </tr>\n",
       "  </thead>\n",
       "  <tbody>\n",
       "    <tr>\n",
       "      <th>user_id</th>\n",
       "      <td>0</td>\n",
       "    </tr>\n",
       "    <tr>\n",
       "      <th>distance</th>\n",
       "      <td>0</td>\n",
       "    </tr>\n",
       "    <tr>\n",
       "      <th>duration</th>\n",
       "      <td>0</td>\n",
       "    </tr>\n",
       "    <tr>\n",
       "      <th>date</th>\n",
       "      <td>0</td>\n",
       "    </tr>\n",
       "  </tbody>\n",
       "</table>\n",
       "</div>"
      ],
      "text/plain": [
       "          0\n",
       "user_id   0\n",
       "distance  0\n",
       "duration  0\n",
       "date      0"
      ]
     },
     "execution_count": 14,
     "metadata": {},
     "output_type": "execute_result"
    }
   ],
   "source": [
    "rides_go.isna().sum().to_frame()"
   ]
  },
  {
   "cell_type": "code",
   "execution_count": 15,
   "id": "a3122569",
   "metadata": {},
   "outputs": [
    {
     "data": {
      "text/html": [
       "<div>\n",
       "<style scoped>\n",
       "    .dataframe tbody tr th:only-of-type {\n",
       "        vertical-align: middle;\n",
       "    }\n",
       "\n",
       "    .dataframe tbody tr th {\n",
       "        vertical-align: top;\n",
       "    }\n",
       "\n",
       "    .dataframe thead th {\n",
       "        text-align: right;\n",
       "    }\n",
       "</style>\n",
       "<table border=\"1\" class=\"dataframe\">\n",
       "  <thead>\n",
       "    <tr style=\"text-align: right;\">\n",
       "      <th></th>\n",
       "      <th>0</th>\n",
       "    </tr>\n",
       "  </thead>\n",
       "  <tbody>\n",
       "    <tr>\n",
       "      <th>subscription_type</th>\n",
       "      <td>0</td>\n",
       "    </tr>\n",
       "    <tr>\n",
       "      <th>minute_price</th>\n",
       "      <td>0</td>\n",
       "    </tr>\n",
       "    <tr>\n",
       "      <th>start_ride_price</th>\n",
       "      <td>0</td>\n",
       "    </tr>\n",
       "    <tr>\n",
       "      <th>subscription_fee</th>\n",
       "      <td>0</td>\n",
       "    </tr>\n",
       "  </tbody>\n",
       "</table>\n",
       "</div>"
      ],
      "text/plain": [
       "                   0\n",
       "subscription_type  0\n",
       "minute_price       0\n",
       "start_ride_price   0\n",
       "subscription_fee   0"
      ]
     },
     "execution_count": 15,
     "metadata": {},
     "output_type": "execute_result"
    }
   ],
   "source": [
    "subscriptions_go.isna().sum().to_frame()"
   ]
  },
  {
   "cell_type": "code",
   "execution_count": 16,
   "id": "e9a08cf5",
   "metadata": {},
   "outputs": [],
   "source": [
    "rides_go['date'] = pd.to_datetime(rides_go['date'])"
   ]
  },
  {
   "cell_type": "code",
   "execution_count": 17,
   "id": "3118df1e",
   "metadata": {},
   "outputs": [],
   "source": [
    "rides_go['month'] = rides_go['date'].dt.month"
   ]
  },
  {
   "cell_type": "code",
   "execution_count": 18,
   "id": "b2c4db8f",
   "metadata": {},
   "outputs": [
    {
     "data": {
      "text/plain": [
       "1"
      ]
     },
     "execution_count": 18,
     "metadata": {},
     "output_type": "execute_result"
    }
   ],
   "source": [
    "rides_go['month'].sort_values().min()"
   ]
  },
  {
   "cell_type": "markdown",
   "id": "d687e39c",
   "metadata": {},
   "source": []
  },
  {
   "cell_type": "code",
   "execution_count": 19,
   "id": "8f6a6c5a",
   "metadata": {},
   "outputs": [],
   "source": [
    "rides_go['duration'] = np.ceil(rides_go['duration']).astype('int')"
   ]
  },
  {
   "cell_type": "code",
   "execution_count": 20,
   "id": "d9ad0b5e",
   "metadata": {},
   "outputs": [
    {
     "data": {
      "text/plain": [
       "Index(['user_id', 'distance', 'duration', 'date', 'month'], dtype='object')"
      ]
     },
     "execution_count": 20,
     "metadata": {},
     "output_type": "execute_result"
    }
   ],
   "source": [
    "rides_go.columns"
   ]
  },
  {
   "cell_type": "code",
   "execution_count": 21,
   "id": "8fb03299",
   "metadata": {},
   "outputs": [
    {
     "name": "stdout",
     "output_type": "stream",
     "text": [
      "0\n"
     ]
    }
   ],
   "source": [
    "#поиск дубликатов в трех датафреймах\n",
    "print(rides_go.duplicated().sum())"
   ]
  },
  {
   "cell_type": "code",
   "execution_count": 22,
   "id": "742a9cd4",
   "metadata": {},
   "outputs": [
    {
     "name": "stdout",
     "output_type": "stream",
     "text": [
      "31\n"
     ]
    }
   ],
   "source": [
    "print(users_go.duplicated().sum())"
   ]
  },
  {
   "cell_type": "code",
   "execution_count": 23,
   "id": "17adcb3a",
   "metadata": {},
   "outputs": [],
   "source": [
    "#удаление дубликатов\n",
    "users_go.drop_duplicates(inplace=True)"
   ]
  },
  {
   "cell_type": "code",
   "execution_count": 24,
   "id": "2cd857b0",
   "metadata": {},
   "outputs": [
    {
     "name": "stdout",
     "output_type": "stream",
     "text": [
      "0\n"
     ]
    }
   ],
   "source": [
    "print(users_go.duplicated().sum())"
   ]
  },
  {
   "cell_type": "code",
   "execution_count": 25,
   "id": "1cfca954",
   "metadata": {},
   "outputs": [
    {
     "name": "stdout",
     "output_type": "stream",
     "text": [
      "0\n"
     ]
    }
   ],
   "source": [
    "print(subscriptions_go.duplicated().sum())"
   ]
  },
  {
   "cell_type": "markdown",
   "id": "faf33873",
   "metadata": {},
   "source": [
    "Во время проведения предобработки данных:\n",
    "\n",
    "1.Удалили дубликаты в данных riders_go\n",
    "\n",
    "2.Округлили duration в соответствии с уточненными данными (п. 5.2) и перевели в int\n",
    "\n",
    "3.Привели столбец date к типу datetime64.\n",
    "\n",
    "4.Создали столбец month с номером месяца из date\n",
    "\n",
    "5.Датафрейм subscriptions_go не трогали. \n",
    " "
   ]
  },
  {
   "cell_type": "markdown",
   "id": "212593c7",
   "metadata": {},
   "source": [
    "#### Шаг 3. Исследовательский анализ данных"
   ]
  },
  {
   "cell_type": "markdown",
   "id": "0db32c93",
   "metadata": {},
   "source": [
    "#####  Частота встречаемости городов"
   ]
  },
  {
   "cell_type": "code",
   "execution_count": 26,
   "id": "8639cad2",
   "metadata": {},
   "outputs": [
    {
     "name": "stdout",
     "output_type": "stream",
     "text": [
      "Пятигорск         219\n",
      "Екатеринбург      204\n",
      "Ростов-на-Дону    198\n",
      "Краснодар         193\n",
      "Сочи              189\n",
      "Омск              183\n",
      "Тюмень            180\n",
      "Москва            168\n",
      "Name: city, dtype: int64\n"
     ]
    }
   ],
   "source": [
    "print(users_go['city'].value_counts())"
   ]
  },
  {
   "cell_type": "code",
   "execution_count": 27,
   "id": "d9901832",
   "metadata": {},
   "outputs": [],
   "source": [
    "city_counts = users_go['city'].value_counts()"
   ]
  },
  {
   "cell_type": "code",
   "execution_count": 28,
   "id": "dfa8d11f",
   "metadata": {},
   "outputs": [
    {
     "data": {
      "image/png": "[encoded data removed]",
      "text/plain": [
       "<Figure size 432x288 with 1 Axes>"
      ]
     },
     "metadata": {
      "needs_background": "light"
     },
     "output_type": "display_data"
    }
   ],
   "source": [
    "plt.barh(city_counts.index, city_counts.values)\n",
    "plt.xlabel('Пользователи')\n",
    "plt.ylabel('Города')\n",
    "plt.title('Частота встречаемости городов')\n",
    "plt.show()"
   ]
  },
  {
   "cell_type": "markdown",
   "id": "b21dafe1",
   "metadata": {},
   "source": [
    "Больше всего пользователей в Пятигорске и Екатеринбурге, меньше всего в Москве."
   ]
  },
  {
   "cell_type": "markdown",
   "id": "4f78d16a",
   "metadata": {},
   "source": [
    "##### Распрстранение подписки на сервис "
   ]
  },
  {
   "cell_type": "code",
   "execution_count": 29,
   "id": "01d24de3",
   "metadata": {},
   "outputs": [
    {
     "data": {
      "text/plain": [
       "<AxesSubplot:ylabel='Процентр подписок у пользователей'>"
      ]
     },
     "execution_count": 29,
     "metadata": {},
     "output_type": "execute_result"
    },
    {
     "data": {
      "image/png": "[encoded data removed]",
      "text/plain": [
       "<Figure size 720x720 with 1 Axes>"
      ]
     },
     "metadata": {},
     "output_type": "display_data"
    }
   ],
   "source": [
    "users_go.pivot_table(values='user_id', index='subscription_type', aggfunc='count')\\\n",
    ".plot.pie(y='user_id',figsize=(10,10),\\\n",
    "          label='Процентр подписок у пользователей', autopct='%1.1f%%')\n"
   ]
  },
  {
   "cell_type": "markdown",
   "id": "e88fe76c",
   "metadata": {},
   "source": [
    "Пользоватлей без подписки - 54,4%, с подпиской 45,6%"
   ]
  },
  {
   "cell_type": "markdown",
   "id": "2b14e43b",
   "metadata": {},
   "source": [
    "##### Возраст пользователей"
   ]
  },
  {
   "cell_type": "code",
   "execution_count": 30,
   "id": "b2edaec2",
   "metadata": {},
   "outputs": [
    {
     "data": {
      "text/plain": [
       "count    1534.000000\n",
       "mean       24.903520\n",
       "std         4.572367\n",
       "min        12.000000\n",
       "25%        22.000000\n",
       "50%        25.000000\n",
       "75%        28.000000\n",
       "max        43.000000\n",
       "Name: age, dtype: float64"
      ]
     },
     "execution_count": 30,
     "metadata": {},
     "output_type": "execute_result"
    }
   ],
   "source": [
    "users_go['age'].describe()"
   ]
  },
  {
   "cell_type": "code",
   "execution_count": 31,
   "id": "43b3612b",
   "metadata": {},
   "outputs": [
    {
     "data": {
      "image/png": "[encoded data removed]",
      "text/plain": [
       "<Figure size 504x216 with 1 Axes>"
      ]
     },
     "metadata": {
      "needs_background": "light"
     },
     "output_type": "display_data"
    }
   ],
   "source": [
    "users_go['age'].plot(kind = 'hist', grid=True, figsize = (7,3), bins = 30)\n",
    "plt.title('Возраст пользователей')\n",
    "plt.xlabel('Возраст')\n",
    "plt.ylabel('Пользователи')\n",
    "plt.show()"
   ]
  },
  {
   "cell_type": "markdown",
   "id": "802ca402",
   "metadata": {},
   "source": [
    "Средний возраст пользоателей составляет примерно 25 лет. "
   ]
  },
  {
   "cell_type": "markdown",
   "id": "bf6fb3ae",
   "metadata": {},
   "source": [
    "#####  Расстояние за 1 поездку."
   ]
  },
  {
   "cell_type": "code",
   "execution_count": 32,
   "id": "6c440800",
   "metadata": {},
   "outputs": [
    {
     "data": {
      "text/plain": [
       "count    18068.000000\n",
       "mean      3070.659976\n",
       "std       1116.831209\n",
       "min          0.855683\n",
       "25%       2543.226360\n",
       "50%       3133.609994\n",
       "75%       3776.222735\n",
       "max       7211.007745\n",
       "Name: distance, dtype: float64"
      ]
     },
     "execution_count": 32,
     "metadata": {},
     "output_type": "execute_result"
    }
   ],
   "source": [
    "rides_go['distance'].describe()"
   ]
  },
  {
   "cell_type": "code",
   "execution_count": 33,
   "id": "464db9bc",
   "metadata": {},
   "outputs": [
    {
     "data": {
      "image/png": "[encoded data removed]",
      "text/plain": [
       "<Figure size 432x288 with 1 Axes>"
      ]
     },
     "metadata": {},
     "output_type": "display_data"
    }
   ],
   "source": [
    "sns.set_style(\"darkgrid\")\n",
    "plt.hist(rides_go['distance'], bins=40, range=(2,5000))\n",
    "plt.title('Длина поездки пользователей')\n",
    "plt.xlabel('Расстояние')\n",
    "plt.ylabel('Количесиво поездок')\n",
    "plt.show()"
   ]
  },
  {
   "cell_type": "markdown",
   "id": "0d565007",
   "metadata": {},
   "source": [
    "Медиана поезкдок примерно 3000-3100."
   ]
  },
  {
   "cell_type": "markdown",
   "id": "aca011f2",
   "metadata": {},
   "source": [
    "##### Длительность поездки"
   ]
  },
  {
   "cell_type": "code",
   "execution_count": 34,
   "id": "f99766fe",
   "metadata": {},
   "outputs": [
    {
     "data": {
      "text/plain": [
       "count    18068.000000\n",
       "mean        18.303520\n",
       "std          6.094928\n",
       "min          1.000000\n",
       "25%         14.000000\n",
       "50%         18.000000\n",
       "75%         22.000000\n",
       "max         41.000000\n",
       "Name: duration, dtype: float64"
      ]
     },
     "execution_count": 34,
     "metadata": {},
     "output_type": "execute_result"
    }
   ],
   "source": [
    "rides_go['duration'].describe()"
   ]
  },
  {
   "cell_type": "code",
   "execution_count": 35,
   "id": "d9bcb204",
   "metadata": {},
   "outputs": [
    {
     "data": {
      "image/png": "[encoded data removed]",
      "text/plain": [
       "<Figure size 432x288 with 1 Axes>"
      ]
     },
     "metadata": {},
     "output_type": "display_data"
    }
   ],
   "source": [
    "sns.set_style(\"darkgrid\")\n",
    "plt.hist(rides_go['duration'], bins=40, range=(1,41))\n",
    "plt.title('Длительность поездки')\n",
    "plt.xlabel('Продолжительность поезки')\n",
    "plt.ylabel('Пользователи')\n",
    "plt.show()"
   ]
  },
  {
   "cell_type": "code",
   "execution_count": 36,
   "id": "99932b24",
   "metadata": {},
   "outputs": [
    {
     "data": {
      "image/png": "[encoded data removed]",
      "text/plain": [
       "<Figure size 432x288 with 1 Axes>"
      ]
     },
     "metadata": {},
     "output_type": "display_data"
    }
   ],
   "source": [
    "sns.set_style(\"darkgrid\")\n",
    "plt.hist(rides_go['duration'], bins=15, range=(1,5))\n",
    "plt.title('Длительность поездки')\n",
    "plt.xlabel('Продолжительность поезки')\n",
    "plt.ylabel('Пользователи')\n",
    "plt.show()"
   ]
  },
  {
   "cell_type": "code",
   "execution_count": 50,
   "id": "d4eac730",
   "metadata": {},
   "outputs": [
    {
     "data": {
      "text/plain": [
       "<AxesSubplot:>"
      ]
     },
     "execution_count": 50,
     "metadata": {},
     "output_type": "execute_result"
    },
    {
     "data": {
      "image/png": "[encoded data removed]",
      "text/plain": [
       "<Figure size 360x720 with 1 Axes>"
      ]
     },
     "metadata": {},
     "output_type": "display_data"
    }
   ],
   "source": [
    "rides_go.boxplot('duration', figsize=(5, 10))"
   ]
  },
  {
   "cell_type": "markdown",
   "id": "873c4ece",
   "metadata": {},
   "source": [
    "Средняя продолжительность поездки составляет 18-20 минут. На диаграмме также можно наблюдать чуть больше 80  поездок блительностью 1 минуту. Возможно, это аномалия. "
   ]
  },
  {
   "cell_type": "markdown",
   "id": "2e7bc7e2",
   "metadata": {},
   "source": [
    "Вывод: Больше всего пользоватеелй в Пятигорске,Екатеринбурге и Ростове-на-Дону. Количество пользователей без подписки чуть больше 50%, с поодпиской 45%. Средний возраст \"самокатччика\" составляет 24-25 лет. Средняя длитльность поздки - 3 км, а медиана поездок приходится на 18-20 минут."
   ]
  },
  {
   "cell_type": "markdown",
   "id": "4ef51331",
   "metadata": {},
   "source": [
    "#### Шаг 4. Объединение данных"
   ]
  },
  {
   "cell_type": "markdown",
   "id": "5bdc5e28",
   "metadata": {},
   "source": [
    "##### Объединение данных о пользователе и подписке в один датасеn "
   ]
  },
  {
   "cell_type": "code",
   "execution_count": 68,
   "id": "95769bb2",
   "metadata": {},
   "outputs": [
    {
     "name": "stdout",
     "output_type": "stream",
     "text": [
      "Размер датасета users_go: (1534, 5)\n"
     ]
    }
   ],
   "source": [
    "print('Размер датасета users_go:', users_go.shape)"
   ]
  },
  {
   "cell_type": "code",
   "execution_count": 69,
   "id": "b37ae47d",
   "metadata": {},
   "outputs": [
    {
     "name": "stdout",
     "output_type": "stream",
     "text": [
      "Размер датасета rides_go: (18068, 5)\n"
     ]
    }
   ],
   "source": [
    "print('Размер датасета rides_go:', rides_go.shape)"
   ]
  },
  {
   "cell_type": "code",
   "execution_count": 70,
   "id": "6e060bb8",
   "metadata": {},
   "outputs": [
    {
     "name": "stdout",
     "output_type": "stream",
     "text": [
      "Размер датасета subscriptions_go: (2, 4)\n"
     ]
    }
   ],
   "source": [
    "print('Размер датасета subscriptions_go:', subscriptions_go.shape)"
   ]
  },
  {
   "cell_type": "markdown",
   "id": "4d461bbf",
   "metadata": {},
   "source": [
    "<div class=\"alert alert-info\"> <b> </b> Исправила, надеюсь что правильно поняла.</div>"
   ]
  },
  {
   "cell_type": "code",
   "execution_count": 71,
   "id": "6bf288b5",
   "metadata": {},
   "outputs": [],
   "source": [
    "merged_df = users_go.merge(rides_go, on='user_id',how='inner') \\\n",
    "                .merge(subscriptions_go, on='subscription_type', how='inner')"
   ]
  },
  {
   "cell_type": "code",
   "execution_count": 72,
   "id": "99a98152",
   "metadata": {},
   "outputs": [
    {
     "data": {
      "text/html": [
       "<div>\n",
       "<style scoped>\n",
       "    .dataframe tbody tr th:only-of-type {\n",
       "        vertical-align: middle;\n",
       "    }\n",
       "\n",
       "    .dataframe tbody tr th {\n",
       "        vertical-align: top;\n",
       "    }\n",
       "\n",
       "    .dataframe thead th {\n",
       "        text-align: right;\n",
       "    }\n",
       "</style>\n",
       "<table border=\"1\" class=\"dataframe\">\n",
       "  <thead>\n",
       "    <tr style=\"text-align: right;\">\n",
       "      <th></th>\n",
       "      <th>user_id</th>\n",
       "      <th>name</th>\n",
       "      <th>age</th>\n",
       "      <th>city</th>\n",
       "      <th>subscription_type</th>\n",
       "      <th>distance</th>\n",
       "      <th>duration</th>\n",
       "      <th>date</th>\n",
       "      <th>month</th>\n",
       "      <th>minute_price</th>\n",
       "      <th>start_ride_price</th>\n",
       "      <th>subscription_fee</th>\n",
       "    </tr>\n",
       "  </thead>\n",
       "  <tbody>\n",
       "    <tr>\n",
       "      <th>0</th>\n",
       "      <td>1</td>\n",
       "      <td>Кира</td>\n",
       "      <td>22</td>\n",
       "      <td>Тюмень</td>\n",
       "      <td>ultra</td>\n",
       "      <td>4409.919140</td>\n",
       "      <td>26</td>\n",
       "      <td>2021-01-01</td>\n",
       "      <td>1</td>\n",
       "      <td>6</td>\n",
       "      <td>0</td>\n",
       "      <td>199</td>\n",
       "    </tr>\n",
       "    <tr>\n",
       "      <th>1</th>\n",
       "      <td>1</td>\n",
       "      <td>Кира</td>\n",
       "      <td>22</td>\n",
       "      <td>Тюмень</td>\n",
       "      <td>ultra</td>\n",
       "      <td>2617.592153</td>\n",
       "      <td>16</td>\n",
       "      <td>2021-01-18</td>\n",
       "      <td>1</td>\n",
       "      <td>6</td>\n",
       "      <td>0</td>\n",
       "      <td>199</td>\n",
       "    </tr>\n",
       "    <tr>\n",
       "      <th>2</th>\n",
       "      <td>1</td>\n",
       "      <td>Кира</td>\n",
       "      <td>22</td>\n",
       "      <td>Тюмень</td>\n",
       "      <td>ultra</td>\n",
       "      <td>754.159807</td>\n",
       "      <td>7</td>\n",
       "      <td>2021-04-20</td>\n",
       "      <td>4</td>\n",
       "      <td>6</td>\n",
       "      <td>0</td>\n",
       "      <td>199</td>\n",
       "    </tr>\n",
       "    <tr>\n",
       "      <th>3</th>\n",
       "      <td>1</td>\n",
       "      <td>Кира</td>\n",
       "      <td>22</td>\n",
       "      <td>Тюмень</td>\n",
       "      <td>ultra</td>\n",
       "      <td>2694.783254</td>\n",
       "      <td>19</td>\n",
       "      <td>2021-08-11</td>\n",
       "      <td>8</td>\n",
       "      <td>6</td>\n",
       "      <td>0</td>\n",
       "      <td>199</td>\n",
       "    </tr>\n",
       "    <tr>\n",
       "      <th>4</th>\n",
       "      <td>1</td>\n",
       "      <td>Кира</td>\n",
       "      <td>22</td>\n",
       "      <td>Тюмень</td>\n",
       "      <td>ultra</td>\n",
       "      <td>4028.687306</td>\n",
       "      <td>27</td>\n",
       "      <td>2021-08-28</td>\n",
       "      <td>8</td>\n",
       "      <td>6</td>\n",
       "      <td>0</td>\n",
       "      <td>199</td>\n",
       "    </tr>\n",
       "    <tr>\n",
       "      <th>...</th>\n",
       "      <td>...</td>\n",
       "      <td>...</td>\n",
       "      <td>...</td>\n",
       "      <td>...</td>\n",
       "      <td>...</td>\n",
       "      <td>...</td>\n",
       "      <td>...</td>\n",
       "      <td>...</td>\n",
       "      <td>...</td>\n",
       "      <td>...</td>\n",
       "      <td>...</td>\n",
       "      <td>...</td>\n",
       "    </tr>\n",
       "    <tr>\n",
       "      <th>18063</th>\n",
       "      <td>1534</td>\n",
       "      <td>Альберт</td>\n",
       "      <td>25</td>\n",
       "      <td>Краснодар</td>\n",
       "      <td>free</td>\n",
       "      <td>3781.098080</td>\n",
       "      <td>20</td>\n",
       "      <td>2021-11-04</td>\n",
       "      <td>11</td>\n",
       "      <td>8</td>\n",
       "      <td>50</td>\n",
       "      <td>0</td>\n",
       "    </tr>\n",
       "    <tr>\n",
       "      <th>18064</th>\n",
       "      <td>1534</td>\n",
       "      <td>Альберт</td>\n",
       "      <td>25</td>\n",
       "      <td>Краснодар</td>\n",
       "      <td>free</td>\n",
       "      <td>2840.423057</td>\n",
       "      <td>22</td>\n",
       "      <td>2021-11-16</td>\n",
       "      <td>11</td>\n",
       "      <td>8</td>\n",
       "      <td>50</td>\n",
       "      <td>0</td>\n",
       "    </tr>\n",
       "    <tr>\n",
       "      <th>18065</th>\n",
       "      <td>1534</td>\n",
       "      <td>Альберт</td>\n",
       "      <td>25</td>\n",
       "      <td>Краснодар</td>\n",
       "      <td>free</td>\n",
       "      <td>3826.185507</td>\n",
       "      <td>19</td>\n",
       "      <td>2021-11-18</td>\n",
       "      <td>11</td>\n",
       "      <td>8</td>\n",
       "      <td>50</td>\n",
       "      <td>0</td>\n",
       "    </tr>\n",
       "    <tr>\n",
       "      <th>18066</th>\n",
       "      <td>1534</td>\n",
       "      <td>Альберт</td>\n",
       "      <td>25</td>\n",
       "      <td>Краснодар</td>\n",
       "      <td>free</td>\n",
       "      <td>2902.308661</td>\n",
       "      <td>17</td>\n",
       "      <td>2021-11-27</td>\n",
       "      <td>11</td>\n",
       "      <td>8</td>\n",
       "      <td>50</td>\n",
       "      <td>0</td>\n",
       "    </tr>\n",
       "    <tr>\n",
       "      <th>18067</th>\n",
       "      <td>1534</td>\n",
       "      <td>Альберт</td>\n",
       "      <td>25</td>\n",
       "      <td>Краснодар</td>\n",
       "      <td>free</td>\n",
       "      <td>2371.711192</td>\n",
       "      <td>16</td>\n",
       "      <td>2021-12-29</td>\n",
       "      <td>12</td>\n",
       "      <td>8</td>\n",
       "      <td>50</td>\n",
       "      <td>0</td>\n",
       "    </tr>\n",
       "  </tbody>\n",
       "</table>\n",
       "<p>18068 rows × 12 columns</p>\n",
       "</div>"
      ],
      "text/plain": [
       "       user_id     name  age       city subscription_type     distance  \\\n",
       "0            1     Кира   22     Тюмень             ultra  4409.919140   \n",
       "1            1     Кира   22     Тюмень             ultra  2617.592153   \n",
       "2            1     Кира   22     Тюмень             ultra   754.159807   \n",
       "3            1     Кира   22     Тюмень             ultra  2694.783254   \n",
       "4            1     Кира   22     Тюмень             ultra  4028.687306   \n",
       "...        ...      ...  ...        ...               ...          ...   \n",
       "18063     1534  Альберт   25  Краснодар              free  3781.098080   \n",
       "18064     1534  Альберт   25  Краснодар              free  2840.423057   \n",
       "18065     1534  Альберт   25  Краснодар              free  3826.185507   \n",
       "18066     1534  Альберт   25  Краснодар              free  2902.308661   \n",
       "18067     1534  Альберт   25  Краснодар              free  2371.711192   \n",
       "\n",
       "       duration       date  month  minute_price  start_ride_price  \\\n",
       "0            26 2021-01-01      1             6                 0   \n",
       "1            16 2021-01-18      1             6                 0   \n",
       "2             7 2021-04-20      4             6                 0   \n",
       "3            19 2021-08-11      8             6                 0   \n",
       "4            27 2021-08-28      8             6                 0   \n",
       "...         ...        ...    ...           ...               ...   \n",
       "18063        20 2021-11-04     11             8                50   \n",
       "18064        22 2021-11-16     11             8                50   \n",
       "18065        19 2021-11-18     11             8                50   \n",
       "18066        17 2021-11-27     11             8                50   \n",
       "18067        16 2021-12-29     12             8                50   \n",
       "\n",
       "       subscription_fee  \n",
       "0                   199  \n",
       "1                   199  \n",
       "2                   199  \n",
       "3                   199  \n",
       "4                   199  \n",
       "...                 ...  \n",
       "18063                 0  \n",
       "18064                 0  \n",
       "18065                 0  \n",
       "18066                 0  \n",
       "18067                 0  \n",
       "\n",
       "[18068 rows x 12 columns]"
      ]
     },
     "metadata": {},
     "output_type": "display_data"
    }
   ],
   "source": [
    "display(merged_df)"
   ]
  },
  {
   "cell_type": "code",
   "execution_count": 73,
   "id": "bb9e8265",
   "metadata": {},
   "outputs": [
    {
     "name": "stdout",
     "output_type": "stream",
     "text": [
      "Размер датасета merged_df: (18068, 12)\n"
     ]
    }
   ],
   "source": [
    "print('Размер датасета merged_df:', merged_df.shape)"
   ]
  },
  {
   "cell_type": "markdown",
   "id": "9dfc2b2f",
   "metadata": {},
   "source": [
    "##### Создание двух датафреймов с данными пользователей с подписой и без"
   ]
  },
  {
   "cell_type": "code",
   "execution_count": 74,
   "id": "43c842ae",
   "metadata": {},
   "outputs": [
    {
     "data": {
      "text/html": [
       "<div>\n",
       "<style scoped>\n",
       "    .dataframe tbody tr th:only-of-type {\n",
       "        vertical-align: middle;\n",
       "    }\n",
       "\n",
       "    .dataframe tbody tr th {\n",
       "        vertical-align: top;\n",
       "    }\n",
       "\n",
       "    .dataframe thead th {\n",
       "        text-align: right;\n",
       "    }\n",
       "</style>\n",
       "<table border=\"1\" class=\"dataframe\">\n",
       "  <thead>\n",
       "    <tr style=\"text-align: right;\">\n",
       "      <th></th>\n",
       "      <th>user_id</th>\n",
       "      <th>name</th>\n",
       "      <th>age</th>\n",
       "      <th>city</th>\n",
       "      <th>subscription_type</th>\n",
       "      <th>distance</th>\n",
       "      <th>duration</th>\n",
       "      <th>date</th>\n",
       "      <th>month</th>\n",
       "      <th>minute_price</th>\n",
       "      <th>start_ride_price</th>\n",
       "      <th>subscription_fee</th>\n",
       "    </tr>\n",
       "  </thead>\n",
       "  <tbody>\n",
       "    <tr>\n",
       "      <th>6500</th>\n",
       "      <td>700</td>\n",
       "      <td>Айдар</td>\n",
       "      <td>22</td>\n",
       "      <td>Омск</td>\n",
       "      <td>free</td>\n",
       "      <td>2515.690719</td>\n",
       "      <td>15</td>\n",
       "      <td>2021-01-02</td>\n",
       "      <td>1</td>\n",
       "      <td>8</td>\n",
       "      <td>50</td>\n",
       "      <td>0</td>\n",
       "    </tr>\n",
       "    <tr>\n",
       "      <th>6501</th>\n",
       "      <td>700</td>\n",
       "      <td>Айдар</td>\n",
       "      <td>22</td>\n",
       "      <td>Омск</td>\n",
       "      <td>free</td>\n",
       "      <td>846.932642</td>\n",
       "      <td>17</td>\n",
       "      <td>2021-02-01</td>\n",
       "      <td>2</td>\n",
       "      <td>8</td>\n",
       "      <td>50</td>\n",
       "      <td>0</td>\n",
       "    </tr>\n",
       "    <tr>\n",
       "      <th>6502</th>\n",
       "      <td>700</td>\n",
       "      <td>Айдар</td>\n",
       "      <td>22</td>\n",
       "      <td>Омск</td>\n",
       "      <td>free</td>\n",
       "      <td>4004.434142</td>\n",
       "      <td>21</td>\n",
       "      <td>2021-02-04</td>\n",
       "      <td>2</td>\n",
       "      <td>8</td>\n",
       "      <td>50</td>\n",
       "      <td>0</td>\n",
       "    </tr>\n",
       "    <tr>\n",
       "      <th>6503</th>\n",
       "      <td>700</td>\n",
       "      <td>Айдар</td>\n",
       "      <td>22</td>\n",
       "      <td>Омск</td>\n",
       "      <td>free</td>\n",
       "      <td>1205.911290</td>\n",
       "      <td>10</td>\n",
       "      <td>2021-02-10</td>\n",
       "      <td>2</td>\n",
       "      <td>8</td>\n",
       "      <td>50</td>\n",
       "      <td>0</td>\n",
       "    </tr>\n",
       "    <tr>\n",
       "      <th>6504</th>\n",
       "      <td>700</td>\n",
       "      <td>Айдар</td>\n",
       "      <td>22</td>\n",
       "      <td>Омск</td>\n",
       "      <td>free</td>\n",
       "      <td>3047.379435</td>\n",
       "      <td>18</td>\n",
       "      <td>2021-02-14</td>\n",
       "      <td>2</td>\n",
       "      <td>8</td>\n",
       "      <td>50</td>\n",
       "      <td>0</td>\n",
       "    </tr>\n",
       "    <tr>\n",
       "      <th>...</th>\n",
       "      <td>...</td>\n",
       "      <td>...</td>\n",
       "      <td>...</td>\n",
       "      <td>...</td>\n",
       "      <td>...</td>\n",
       "      <td>...</td>\n",
       "      <td>...</td>\n",
       "      <td>...</td>\n",
       "      <td>...</td>\n",
       "      <td>...</td>\n",
       "      <td>...</td>\n",
       "      <td>...</td>\n",
       "    </tr>\n",
       "    <tr>\n",
       "      <th>18063</th>\n",
       "      <td>1534</td>\n",
       "      <td>Альберт</td>\n",
       "      <td>25</td>\n",
       "      <td>Краснодар</td>\n",
       "      <td>free</td>\n",
       "      <td>3781.098080</td>\n",
       "      <td>20</td>\n",
       "      <td>2021-11-04</td>\n",
       "      <td>11</td>\n",
       "      <td>8</td>\n",
       "      <td>50</td>\n",
       "      <td>0</td>\n",
       "    </tr>\n",
       "    <tr>\n",
       "      <th>18064</th>\n",
       "      <td>1534</td>\n",
       "      <td>Альберт</td>\n",
       "      <td>25</td>\n",
       "      <td>Краснодар</td>\n",
       "      <td>free</td>\n",
       "      <td>2840.423057</td>\n",
       "      <td>22</td>\n",
       "      <td>2021-11-16</td>\n",
       "      <td>11</td>\n",
       "      <td>8</td>\n",
       "      <td>50</td>\n",
       "      <td>0</td>\n",
       "    </tr>\n",
       "    <tr>\n",
       "      <th>18065</th>\n",
       "      <td>1534</td>\n",
       "      <td>Альберт</td>\n",
       "      <td>25</td>\n",
       "      <td>Краснодар</td>\n",
       "      <td>free</td>\n",
       "      <td>3826.185507</td>\n",
       "      <td>19</td>\n",
       "      <td>2021-11-18</td>\n",
       "      <td>11</td>\n",
       "      <td>8</td>\n",
       "      <td>50</td>\n",
       "      <td>0</td>\n",
       "    </tr>\n",
       "    <tr>\n",
       "      <th>18066</th>\n",
       "      <td>1534</td>\n",
       "      <td>Альберт</td>\n",
       "      <td>25</td>\n",
       "      <td>Краснодар</td>\n",
       "      <td>free</td>\n",
       "      <td>2902.308661</td>\n",
       "      <td>17</td>\n",
       "      <td>2021-11-27</td>\n",
       "      <td>11</td>\n",
       "      <td>8</td>\n",
       "      <td>50</td>\n",
       "      <td>0</td>\n",
       "    </tr>\n",
       "    <tr>\n",
       "      <th>18067</th>\n",
       "      <td>1534</td>\n",
       "      <td>Альберт</td>\n",
       "      <td>25</td>\n",
       "      <td>Краснодар</td>\n",
       "      <td>free</td>\n",
       "      <td>2371.711192</td>\n",
       "      <td>16</td>\n",
       "      <td>2021-12-29</td>\n",
       "      <td>12</td>\n",
       "      <td>8</td>\n",
       "      <td>50</td>\n",
       "      <td>0</td>\n",
       "    </tr>\n",
       "  </tbody>\n",
       "</table>\n",
       "<p>11568 rows × 12 columns</p>\n",
       "</div>"
      ],
      "text/plain": [
       "       user_id     name  age       city subscription_type     distance  \\\n",
       "6500       700    Айдар   22       Омск              free  2515.690719   \n",
       "6501       700    Айдар   22       Омск              free   846.932642   \n",
       "6502       700    Айдар   22       Омск              free  4004.434142   \n",
       "6503       700    Айдар   22       Омск              free  1205.911290   \n",
       "6504       700    Айдар   22       Омск              free  3047.379435   \n",
       "...        ...      ...  ...        ...               ...          ...   \n",
       "18063     1534  Альберт   25  Краснодар              free  3781.098080   \n",
       "18064     1534  Альберт   25  Краснодар              free  2840.423057   \n",
       "18065     1534  Альберт   25  Краснодар              free  3826.185507   \n",
       "18066     1534  Альберт   25  Краснодар              free  2902.308661   \n",
       "18067     1534  Альберт   25  Краснодар              free  2371.711192   \n",
       "\n",
       "       duration       date  month  minute_price  start_ride_price  \\\n",
       "6500         15 2021-01-02      1             8                50   \n",
       "6501         17 2021-02-01      2             8                50   \n",
       "6502         21 2021-02-04      2             8                50   \n",
       "6503         10 2021-02-10      2             8                50   \n",
       "6504         18 2021-02-14      2             8                50   \n",
       "...         ...        ...    ...           ...               ...   \n",
       "18063        20 2021-11-04     11             8                50   \n",
       "18064        22 2021-11-16     11             8                50   \n",
       "18065        19 2021-11-18     11             8                50   \n",
       "18066        17 2021-11-27     11             8                50   \n",
       "18067        16 2021-12-29     12             8                50   \n",
       "\n",
       "       subscription_fee  \n",
       "6500                  0  \n",
       "6501                  0  \n",
       "6502                  0  \n",
       "6503                  0  \n",
       "6504                  0  \n",
       "...                 ...  \n",
       "18063                 0  \n",
       "18064                 0  \n",
       "18065                 0  \n",
       "18066                 0  \n",
       "18067                 0  \n",
       "\n",
       "[11568 rows x 12 columns]"
      ]
     },
     "metadata": {},
     "output_type": "display_data"
    }
   ],
   "source": [
    "users_without_subscription = merged_df[merged_df['subscription_type'] == 'free']\n",
    "display(users_without_subscription)"
   ]
  },
  {
   "cell_type": "code",
   "execution_count": 75,
   "id": "706f72e9",
   "metadata": {},
   "outputs": [
    {
     "data": {
      "text/html": [
       "<div>\n",
       "<style scoped>\n",
       "    .dataframe tbody tr th:only-of-type {\n",
       "        vertical-align: middle;\n",
       "    }\n",
       "\n",
       "    .dataframe tbody tr th {\n",
       "        vertical-align: top;\n",
       "    }\n",
       "\n",
       "    .dataframe thead th {\n",
       "        text-align: right;\n",
       "    }\n",
       "</style>\n",
       "<table border=\"1\" class=\"dataframe\">\n",
       "  <thead>\n",
       "    <tr style=\"text-align: right;\">\n",
       "      <th></th>\n",
       "      <th>user_id</th>\n",
       "      <th>name</th>\n",
       "      <th>age</th>\n",
       "      <th>city</th>\n",
       "      <th>subscription_type</th>\n",
       "      <th>distance</th>\n",
       "      <th>duration</th>\n",
       "      <th>date</th>\n",
       "      <th>month</th>\n",
       "      <th>minute_price</th>\n",
       "      <th>start_ride_price</th>\n",
       "      <th>subscription_fee</th>\n",
       "    </tr>\n",
       "  </thead>\n",
       "  <tbody>\n",
       "    <tr>\n",
       "      <th>0</th>\n",
       "      <td>1</td>\n",
       "      <td>Кира</td>\n",
       "      <td>22</td>\n",
       "      <td>Тюмень</td>\n",
       "      <td>ultra</td>\n",
       "      <td>4409.919140</td>\n",
       "      <td>26</td>\n",
       "      <td>2021-01-01</td>\n",
       "      <td>1</td>\n",
       "      <td>6</td>\n",
       "      <td>0</td>\n",
       "      <td>199</td>\n",
       "    </tr>\n",
       "    <tr>\n",
       "      <th>1</th>\n",
       "      <td>1</td>\n",
       "      <td>Кира</td>\n",
       "      <td>22</td>\n",
       "      <td>Тюмень</td>\n",
       "      <td>ultra</td>\n",
       "      <td>2617.592153</td>\n",
       "      <td>16</td>\n",
       "      <td>2021-01-18</td>\n",
       "      <td>1</td>\n",
       "      <td>6</td>\n",
       "      <td>0</td>\n",
       "      <td>199</td>\n",
       "    </tr>\n",
       "    <tr>\n",
       "      <th>2</th>\n",
       "      <td>1</td>\n",
       "      <td>Кира</td>\n",
       "      <td>22</td>\n",
       "      <td>Тюмень</td>\n",
       "      <td>ultra</td>\n",
       "      <td>754.159807</td>\n",
       "      <td>7</td>\n",
       "      <td>2021-04-20</td>\n",
       "      <td>4</td>\n",
       "      <td>6</td>\n",
       "      <td>0</td>\n",
       "      <td>199</td>\n",
       "    </tr>\n",
       "    <tr>\n",
       "      <th>3</th>\n",
       "      <td>1</td>\n",
       "      <td>Кира</td>\n",
       "      <td>22</td>\n",
       "      <td>Тюмень</td>\n",
       "      <td>ultra</td>\n",
       "      <td>2694.783254</td>\n",
       "      <td>19</td>\n",
       "      <td>2021-08-11</td>\n",
       "      <td>8</td>\n",
       "      <td>6</td>\n",
       "      <td>0</td>\n",
       "      <td>199</td>\n",
       "    </tr>\n",
       "    <tr>\n",
       "      <th>4</th>\n",
       "      <td>1</td>\n",
       "      <td>Кира</td>\n",
       "      <td>22</td>\n",
       "      <td>Тюмень</td>\n",
       "      <td>ultra</td>\n",
       "      <td>4028.687306</td>\n",
       "      <td>27</td>\n",
       "      <td>2021-08-28</td>\n",
       "      <td>8</td>\n",
       "      <td>6</td>\n",
       "      <td>0</td>\n",
       "      <td>199</td>\n",
       "    </tr>\n",
       "    <tr>\n",
       "      <th>...</th>\n",
       "      <td>...</td>\n",
       "      <td>...</td>\n",
       "      <td>...</td>\n",
       "      <td>...</td>\n",
       "      <td>...</td>\n",
       "      <td>...</td>\n",
       "      <td>...</td>\n",
       "      <td>...</td>\n",
       "      <td>...</td>\n",
       "      <td>...</td>\n",
       "      <td>...</td>\n",
       "      <td>...</td>\n",
       "    </tr>\n",
       "    <tr>\n",
       "      <th>6495</th>\n",
       "      <td>699</td>\n",
       "      <td>Оксана</td>\n",
       "      <td>22</td>\n",
       "      <td>Москва</td>\n",
       "      <td>ultra</td>\n",
       "      <td>3973.046497</td>\n",
       "      <td>25</td>\n",
       "      <td>2021-08-29</td>\n",
       "      <td>8</td>\n",
       "      <td>6</td>\n",
       "      <td>0</td>\n",
       "      <td>199</td>\n",
       "    </tr>\n",
       "    <tr>\n",
       "      <th>6496</th>\n",
       "      <td>699</td>\n",
       "      <td>Оксана</td>\n",
       "      <td>22</td>\n",
       "      <td>Москва</td>\n",
       "      <td>ultra</td>\n",
       "      <td>3288.702563</td>\n",
       "      <td>16</td>\n",
       "      <td>2021-09-12</td>\n",
       "      <td>9</td>\n",
       "      <td>6</td>\n",
       "      <td>0</td>\n",
       "      <td>199</td>\n",
       "    </tr>\n",
       "    <tr>\n",
       "      <th>6497</th>\n",
       "      <td>699</td>\n",
       "      <td>Оксана</td>\n",
       "      <td>22</td>\n",
       "      <td>Москва</td>\n",
       "      <td>ultra</td>\n",
       "      <td>3076.159348</td>\n",
       "      <td>15</td>\n",
       "      <td>2021-09-26</td>\n",
       "      <td>9</td>\n",
       "      <td>6</td>\n",
       "      <td>0</td>\n",
       "      <td>199</td>\n",
       "    </tr>\n",
       "    <tr>\n",
       "      <th>6498</th>\n",
       "      <td>699</td>\n",
       "      <td>Оксана</td>\n",
       "      <td>22</td>\n",
       "      <td>Москва</td>\n",
       "      <td>ultra</td>\n",
       "      <td>4707.845501</td>\n",
       "      <td>16</td>\n",
       "      <td>2021-10-17</td>\n",
       "      <td>10</td>\n",
       "      <td>6</td>\n",
       "      <td>0</td>\n",
       "      <td>199</td>\n",
       "    </tr>\n",
       "    <tr>\n",
       "      <th>6499</th>\n",
       "      <td>699</td>\n",
       "      <td>Оксана</td>\n",
       "      <td>22</td>\n",
       "      <td>Москва</td>\n",
       "      <td>ultra</td>\n",
       "      <td>3202.890770</td>\n",
       "      <td>26</td>\n",
       "      <td>2021-12-03</td>\n",
       "      <td>12</td>\n",
       "      <td>6</td>\n",
       "      <td>0</td>\n",
       "      <td>199</td>\n",
       "    </tr>\n",
       "  </tbody>\n",
       "</table>\n",
       "<p>6500 rows × 12 columns</p>\n",
       "</div>"
      ],
      "text/plain": [
       "      user_id    name  age    city subscription_type     distance  duration  \\\n",
       "0           1    Кира   22  Тюмень             ultra  4409.919140        26   \n",
       "1           1    Кира   22  Тюмень             ultra  2617.592153        16   \n",
       "2           1    Кира   22  Тюмень             ultra   754.159807         7   \n",
       "3           1    Кира   22  Тюмень             ultra  2694.783254        19   \n",
       "4           1    Кира   22  Тюмень             ultra  4028.687306        27   \n",
       "...       ...     ...  ...     ...               ...          ...       ...   \n",
       "6495      699  Оксана   22  Москва             ultra  3973.046497        25   \n",
       "6496      699  Оксана   22  Москва             ultra  3288.702563        16   \n",
       "6497      699  Оксана   22  Москва             ultra  3076.159348        15   \n",
       "6498      699  Оксана   22  Москва             ultra  4707.845501        16   \n",
       "6499      699  Оксана   22  Москва             ultra  3202.890770        26   \n",
       "\n",
       "           date  month  minute_price  start_ride_price  subscription_fee  \n",
       "0    2021-01-01      1             6                 0               199  \n",
       "1    2021-01-18      1             6                 0               199  \n",
       "2    2021-04-20      4             6                 0               199  \n",
       "3    2021-08-11      8             6                 0               199  \n",
       "4    2021-08-28      8             6                 0               199  \n",
       "...         ...    ...           ...               ...               ...  \n",
       "6495 2021-08-29      8             6                 0               199  \n",
       "6496 2021-09-12      9             6                 0               199  \n",
       "6497 2021-09-26      9             6                 0               199  \n",
       "6498 2021-10-17     10             6                 0               199  \n",
       "6499 2021-12-03     12             6                 0               199  \n",
       "\n",
       "[6500 rows x 12 columns]"
      ]
     },
     "metadata": {},
     "output_type": "display_data"
    }
   ],
   "source": [
    "users_with_subscription = merged_df[merged_df['subscription_type'] == 'ultra']\n",
    "display(users_with_subscription)"
   ]
  },
  {
   "cell_type": "markdown",
   "id": "25c28e1b",
   "metadata": {},
   "source": [
    "##### Информация о расстоянии и времени"
   ]
  },
  {
   "cell_type": "code",
   "execution_count": 76,
   "id": "848bfed1",
   "metadata": {},
   "outputs": [
    {
     "data": {
      "image/png": "[encoded data removed]",
      "text/plain": [
       "<Figure size 720x432 with 1 Axes>"
      ]
     },
     "metadata": {},
     "output_type": "display_data"
    }
   ],
   "source": [
    "plt.figure(figsize=(10,6))\n",
    "\n",
    "plt.hist([users_without_subscription['distance'],\\\n",
    "          users_with_subscription['distance']],\\\n",
    "         bins=20, alpha=0.5,\\\n",
    "         label=['Пользователи без подписки', 'Пользователи с подпиской'])\n",
    "plt.xlabel('Расстояние(м)')\n",
    "plt.ylabel('Пользователи')\n",
    "plt.title('Расстояние, которое проезжают пользователи с подписокй и без подписки')\n",
    "plt.legend()\n",
    "plt.show()"
   ]
  },
  {
   "cell_type": "markdown",
   "id": "063e78ba",
   "metadata": {},
   "source": [
    "Вывод: Пользователи с подпиской делают чуть более длинные поездки. У пользователей с подпиской мало очень коротких по расстоянию поездок."
   ]
  },
  {
   "cell_type": "code",
   "execution_count": 42,
   "id": "050d38e6",
   "metadata": {},
   "outputs": [
    {
     "data": {
      "image/png": "[encoded data removed]",
      "text/plain": [
       "<Figure size 720x432 with 1 Axes>"
      ]
     },
     "metadata": {},
     "output_type": "display_data"
    }
   ],
   "source": [
    "plt.figure(figsize=(10,6))\n",
    "\n",
    "plt.hist([users_without_subscription['duration'], \\\n",
    "          users_with_subscription['duration']], \\\n",
    "         bins=20, alpha=0.5,\\\n",
    "         label=['Пользователи без подписки', 'Пользователи с подпиской'])\n",
    "plt.xlabel('Длительность поездки(мин)')\n",
    "plt.ylabel('Пользователи')\n",
    "plt.title('Длительность поездки для пользователей обеих категорий')\n",
    "plt.legend()\n",
    "plt.show()"
   ]
  },
  {
   "cell_type": "markdown",
   "id": "59a6be83",
   "metadata": {},
   "source": [
    "Вывод: пользователи без подписки делают чуть более долгие поездки. Также у пользователей без подпиской чуть больше коотких по длительности поездок, чем у пользователей с подпиской. "
   ]
  },
  {
   "cell_type": "markdown",
   "id": "402d620f",
   "metadata": {},
   "source": [
    "#### Шаг 5. Подсчёт выручки"
   ]
  },
  {
   "cell_type": "markdown",
   "id": "d526d440",
   "metadata": {},
   "source": [
    "<div class=\"alert alert-block alert-warning\">📝\n",
    "    \n",
    "\n",
    "__Комментарий от ревьюера №1__\n",
    "    \n",
    "Нет проверки на пропуски в сводной таблице перед расчетом выручки"
   ]
  },
  {
   "cell_type": "markdown",
   "id": "fb8ab1a8",
   "metadata": {},
   "source": [
    "##### Создайте датафрейм с агрегированными данными о поездках на основе датафрейма с объединёнными данными"
   ]
  },
  {
   "cell_type": "code",
   "execution_count": 43,
   "id": "8cd78120",
   "metadata": {},
   "outputs": [],
   "source": [
    "aggregated_data = merged_df.pivot_table(\n",
    "    index = ['user_id', 'month'],\n",
    "    values = ['distance', \n",
    "        'duration', \n",
    "        'minute_price', \n",
    "        'start_ride_price', \n",
    "        'subscription_fee',\n",
    "        'subscription_type'],\n",
    "    aggfunc = {\n",
    "        'distance': {'count', 'sum'},\n",
    "        'duration': 'sum',\n",
    "        'minute_price': 'mean',\n",
    "        'start_ride_price': 'mean',\n",
    "        'subscription_fee': 'mean',\n",
    "        'subscription_type': 'first'\n",
    "    }\n",
    ")\n",
    "\n",
    "aggregated_data.columns = [\n",
    "    'count', 'distance', \n",
    "    'duration', \n",
    "    'minute_price',\n",
    "    'start_ride_price', \n",
    "    'subscription_fee',\n",
    "    'subscription_type'\n",
    "]"
   ]
  },
  {
   "cell_type": "code",
   "execution_count": 44,
   "id": "08cb272a",
   "metadata": {},
   "outputs": [
    {
     "data": {
      "text/html": [
       "<div>\n",
       "<style scoped>\n",
       "    .dataframe tbody tr th:only-of-type {\n",
       "        vertical-align: middle;\n",
       "    }\n",
       "\n",
       "    .dataframe tbody tr th {\n",
       "        vertical-align: top;\n",
       "    }\n",
       "\n",
       "    .dataframe thead th {\n",
       "        text-align: right;\n",
       "    }\n",
       "</style>\n",
       "<table border=\"1\" class=\"dataframe\">\n",
       "  <thead>\n",
       "    <tr style=\"text-align: right;\">\n",
       "      <th></th>\n",
       "      <th></th>\n",
       "      <th>count</th>\n",
       "      <th>distance</th>\n",
       "      <th>duration</th>\n",
       "      <th>minute_price</th>\n",
       "      <th>start_ride_price</th>\n",
       "      <th>subscription_fee</th>\n",
       "      <th>subscription_type</th>\n",
       "    </tr>\n",
       "    <tr>\n",
       "      <th>user_id</th>\n",
       "      <th>month</th>\n",
       "      <th></th>\n",
       "      <th></th>\n",
       "      <th></th>\n",
       "      <th></th>\n",
       "      <th></th>\n",
       "      <th></th>\n",
       "      <th></th>\n",
       "    </tr>\n",
       "  </thead>\n",
       "  <tbody>\n",
       "    <tr>\n",
       "      <th rowspan=\"5\" valign=\"top\">1</th>\n",
       "      <th>1</th>\n",
       "      <td>2</td>\n",
       "      <td>7027.511294</td>\n",
       "      <td>42</td>\n",
       "      <td>6</td>\n",
       "      <td>0</td>\n",
       "      <td>199</td>\n",
       "      <td>ultra</td>\n",
       "    </tr>\n",
       "    <tr>\n",
       "      <th>4</th>\n",
       "      <td>1</td>\n",
       "      <td>754.159807</td>\n",
       "      <td>7</td>\n",
       "      <td>6</td>\n",
       "      <td>0</td>\n",
       "      <td>199</td>\n",
       "      <td>ultra</td>\n",
       "    </tr>\n",
       "    <tr>\n",
       "      <th>8</th>\n",
       "      <td>2</td>\n",
       "      <td>6723.470560</td>\n",
       "      <td>46</td>\n",
       "      <td>6</td>\n",
       "      <td>0</td>\n",
       "      <td>199</td>\n",
       "      <td>ultra</td>\n",
       "    </tr>\n",
       "    <tr>\n",
       "      <th>10</th>\n",
       "      <td>2</td>\n",
       "      <td>5809.911100</td>\n",
       "      <td>32</td>\n",
       "      <td>6</td>\n",
       "      <td>0</td>\n",
       "      <td>199</td>\n",
       "      <td>ultra</td>\n",
       "    </tr>\n",
       "    <tr>\n",
       "      <th>11</th>\n",
       "      <td>3</td>\n",
       "      <td>7003.499363</td>\n",
       "      <td>56</td>\n",
       "      <td>6</td>\n",
       "      <td>0</td>\n",
       "      <td>199</td>\n",
       "      <td>ultra</td>\n",
       "    </tr>\n",
       "  </tbody>\n",
       "</table>\n",
       "</div>"
      ],
      "text/plain": [
       "               count     distance  duration  minute_price  start_ride_price  \\\n",
       "user_id month                                                                 \n",
       "1       1          2  7027.511294        42             6                 0   \n",
       "        4          1   754.159807         7             6                 0   \n",
       "        8          2  6723.470560        46             6                 0   \n",
       "        10         2  5809.911100        32             6                 0   \n",
       "        11         3  7003.499363        56             6                 0   \n",
       "\n",
       "               subscription_fee subscription_type  \n",
       "user_id month                                      \n",
       "1       1                   199             ultra  \n",
       "        4                   199             ultra  \n",
       "        8                   199             ultra  \n",
       "        10                  199             ultra  \n",
       "        11                  199             ultra  "
      ]
     },
     "execution_count": 44,
     "metadata": {},
     "output_type": "execute_result"
    }
   ],
   "source": [
    "aggregated_data.head()"
   ]
  },
  {
   "cell_type": "markdown",
   "id": "f337e337",
   "metadata": {},
   "source": [
    " #####  В этот же датафрейм добавьте столбец с помесячной выручкой, которую принёс каждый пользователь. \n"
   ]
  },
  {
   "cell_type": "code",
   "execution_count": 45,
   "id": "44cfefca",
   "metadata": {},
   "outputs": [],
   "source": [
    "#Помесячная выручка считается по формуле: стоимость старта поездки \n",
    "#×  количество поездок + стоимость одной минуты поездки \n",
    "#× общая продолжительность всех поездок в минутах + стоимость подписки."
   ]
  },
  {
   "cell_type": "code",
   "execution_count": 46,
   "id": "4a09a57d",
   "metadata": {},
   "outputs": [],
   "source": [
    "aggregated_data['month_income'] = (\n",
    "    aggregated_data['start_ride_price']*aggregated_data['count']+\n",
    "        aggregated_data['minute_price']*aggregated_data['duration']+\n",
    "            aggregated_data['subscription_fee'])"
   ]
  },
  {
   "cell_type": "code",
   "execution_count": 47,
   "id": "28d617f3",
   "metadata": {},
   "outputs": [
    {
     "data": {
      "text/html": [
       "<div>\n",
       "<style scoped>\n",
       "    .dataframe tbody tr th:only-of-type {\n",
       "        vertical-align: middle;\n",
       "    }\n",
       "\n",
       "    .dataframe tbody tr th {\n",
       "        vertical-align: top;\n",
       "    }\n",
       "\n",
       "    .dataframe thead th {\n",
       "        text-align: right;\n",
       "    }\n",
       "</style>\n",
       "<table border=\"1\" class=\"dataframe\">\n",
       "  <thead>\n",
       "    <tr style=\"text-align: right;\">\n",
       "      <th></th>\n",
       "      <th></th>\n",
       "      <th>count</th>\n",
       "      <th>distance</th>\n",
       "      <th>duration</th>\n",
       "      <th>minute_price</th>\n",
       "      <th>start_ride_price</th>\n",
       "      <th>subscription_fee</th>\n",
       "      <th>subscription_type</th>\n",
       "      <th>month_income</th>\n",
       "    </tr>\n",
       "    <tr>\n",
       "      <th>user_id</th>\n",
       "      <th>month</th>\n",
       "      <th></th>\n",
       "      <th></th>\n",
       "      <th></th>\n",
       "      <th></th>\n",
       "      <th></th>\n",
       "      <th></th>\n",
       "      <th></th>\n",
       "      <th></th>\n",
       "    </tr>\n",
       "  </thead>\n",
       "  <tbody>\n",
       "    <tr>\n",
       "      <th rowspan=\"6\" valign=\"top\">1</th>\n",
       "      <th>1</th>\n",
       "      <td>2</td>\n",
       "      <td>7027.511294</td>\n",
       "      <td>42</td>\n",
       "      <td>6</td>\n",
       "      <td>0</td>\n",
       "      <td>199</td>\n",
       "      <td>ultra</td>\n",
       "      <td>451</td>\n",
       "    </tr>\n",
       "    <tr>\n",
       "      <th>4</th>\n",
       "      <td>1</td>\n",
       "      <td>754.159807</td>\n",
       "      <td>7</td>\n",
       "      <td>6</td>\n",
       "      <td>0</td>\n",
       "      <td>199</td>\n",
       "      <td>ultra</td>\n",
       "      <td>241</td>\n",
       "    </tr>\n",
       "    <tr>\n",
       "      <th>8</th>\n",
       "      <td>2</td>\n",
       "      <td>6723.470560</td>\n",
       "      <td>46</td>\n",
       "      <td>6</td>\n",
       "      <td>0</td>\n",
       "      <td>199</td>\n",
       "      <td>ultra</td>\n",
       "      <td>475</td>\n",
       "    </tr>\n",
       "    <tr>\n",
       "      <th>10</th>\n",
       "      <td>2</td>\n",
       "      <td>5809.911100</td>\n",
       "      <td>32</td>\n",
       "      <td>6</td>\n",
       "      <td>0</td>\n",
       "      <td>199</td>\n",
       "      <td>ultra</td>\n",
       "      <td>391</td>\n",
       "    </tr>\n",
       "    <tr>\n",
       "      <th>11</th>\n",
       "      <td>3</td>\n",
       "      <td>7003.499363</td>\n",
       "      <td>56</td>\n",
       "      <td>6</td>\n",
       "      <td>0</td>\n",
       "      <td>199</td>\n",
       "      <td>ultra</td>\n",
       "      <td>535</td>\n",
       "    </tr>\n",
       "    <tr>\n",
       "      <th>12</th>\n",
       "      <td>2</td>\n",
       "      <td>6751.629942</td>\n",
       "      <td>28</td>\n",
       "      <td>6</td>\n",
       "      <td>0</td>\n",
       "      <td>199</td>\n",
       "      <td>ultra</td>\n",
       "      <td>367</td>\n",
       "    </tr>\n",
       "    <tr>\n",
       "      <th rowspan=\"4\" valign=\"top\">2</th>\n",
       "      <th>3</th>\n",
       "      <td>3</td>\n",
       "      <td>10187.723006</td>\n",
       "      <td>63</td>\n",
       "      <td>6</td>\n",
       "      <td>0</td>\n",
       "      <td>199</td>\n",
       "      <td>ultra</td>\n",
       "      <td>577</td>\n",
       "    </tr>\n",
       "    <tr>\n",
       "      <th>4</th>\n",
       "      <td>2</td>\n",
       "      <td>6164.381824</td>\n",
       "      <td>40</td>\n",
       "      <td>6</td>\n",
       "      <td>0</td>\n",
       "      <td>199</td>\n",
       "      <td>ultra</td>\n",
       "      <td>439</td>\n",
       "    </tr>\n",
       "    <tr>\n",
       "      <th>6</th>\n",
       "      <td>1</td>\n",
       "      <td>3255.338202</td>\n",
       "      <td>14</td>\n",
       "      <td>6</td>\n",
       "      <td>0</td>\n",
       "      <td>199</td>\n",
       "      <td>ultra</td>\n",
       "      <td>283</td>\n",
       "    </tr>\n",
       "    <tr>\n",
       "      <th>7</th>\n",
       "      <td>2</td>\n",
       "      <td>6780.722964</td>\n",
       "      <td>48</td>\n",
       "      <td>6</td>\n",
       "      <td>0</td>\n",
       "      <td>199</td>\n",
       "      <td>ultra</td>\n",
       "      <td>487</td>\n",
       "    </tr>\n",
       "  </tbody>\n",
       "</table>\n",
       "</div>"
      ],
      "text/plain": [
       "               count      distance  duration  minute_price  start_ride_price  \\\n",
       "user_id month                                                                  \n",
       "1       1          2   7027.511294        42             6                 0   \n",
       "        4          1    754.159807         7             6                 0   \n",
       "        8          2   6723.470560        46             6                 0   \n",
       "        10         2   5809.911100        32             6                 0   \n",
       "        11         3   7003.499363        56             6                 0   \n",
       "        12         2   6751.629942        28             6                 0   \n",
       "2       3          3  10187.723006        63             6                 0   \n",
       "        4          2   6164.381824        40             6                 0   \n",
       "        6          1   3255.338202        14             6                 0   \n",
       "        7          2   6780.722964        48             6                 0   \n",
       "\n",
       "               subscription_fee subscription_type  month_income  \n",
       "user_id month                                                    \n",
       "1       1                   199             ultra           451  \n",
       "        4                   199             ultra           241  \n",
       "        8                   199             ultra           475  \n",
       "        10                  199             ultra           391  \n",
       "        11                  199             ultra           535  \n",
       "        12                  199             ultra           367  \n",
       "2       3                   199             ultra           577  \n",
       "        4                   199             ultra           439  \n",
       "        6                   199             ultra           283  \n",
       "        7                   199             ultra           487  "
      ]
     },
     "execution_count": 47,
     "metadata": {},
     "output_type": "execute_result"
    }
   ],
   "source": [
    "aggregated_data.head(10)"
   ]
  },
  {
   "cell_type": "code",
   "execution_count": 48,
   "id": "5808635f",
   "metadata": {},
   "outputs": [
    {
     "name": "stdout",
     "output_type": "stream",
     "text": [
      "Помесячная выручка составляет: 3878641 руб.\n"
     ]
    }
   ],
   "source": [
    "print('Помесячная выручка составляет:', aggregated_data['month_income'].sum(), 'руб.')"
   ]
  },
  {
   "cell_type": "markdown",
   "id": "41545ac0",
   "metadata": {},
   "source": [
    "#### Шаг 6. Проверка гипотез"
   ]
  },
  {
   "cell_type": "markdown",
   "id": "33cb0769",
   "metadata": {},
   "source": [
    "##### Тратят ли пользователи с подпиской больше времени на поезкди?  Если да, то пользователи с подпиской могут быть «выгоднее» для компании. Проверьте гипотезу. Используйте исходные данные о продолжительности каждой сессии — отдельно для подписчиков и тех, у кого нет подписки. \n",
    "\n",
    "Нулевая гипотеза:Продолжительность поезкдок с подпиской одинакова или меньше Продолжительности поезкди пользователей без подписки.\n",
    "Альтернативная гипотеза: Пользователи с подпиской ездят на самокатах дольше."
   ]
  },
  {
   "cell_type": "code",
   "execution_count": 46,
   "id": "23ea867b",
   "metadata": {},
   "outputs": [
    {
     "name": "stdout",
     "output_type": "stream",
     "text": [
      "2.4959453720736625e-34\n",
      "Отвергаем нулевую гипотезу\n"
     ]
    }
   ],
   "source": [
    "first_hyp = st.ttest_ind(\n",
    "    users_with_subscription['duration'], \n",
    "    users_without_subscription['duration'], \n",
    "    alternative='greater')\n",
    "\n",
    "print(first_hyp.pvalue)\n",
    "\n",
    "alpha = 0.05\n",
    "if first_hyp.pvalue < alpha:\n",
    "    print('Отвергаем нулевую гипотезу')\n",
    "else:\n",
    "    print('Не получилось отвергнуть нулевую гипотезу')"
   ]
  },
  {
   "cell_type": "markdown",
   "id": "5af5e4c6",
   "metadata": {},
   "source": [
    "Таким образом, выходит что средняя продолжительность значительно отличается между пользователями с подпиской и без нее.\n",
    "Пользователи с подпиской имеют значительно отличающуюся среднюю продолжительность поезкдок по сравнению с пользователями без подписки."
   ]
  },
  {
   "cell_type": "markdown",
   "id": "4beffe55",
   "metadata": {},
   "source": [
    "##### Расстояние одной поездки в 3130 метров — оптимальное с точки зрения износа самоката. Можно ли сказать, что расстояние, которое проезжают пользователи с подпиской за одну поездку, не превышает 3130 метров? Проверьте гипотезу и сделайте выводы.\n",
    "\n",
    "Нулевая гипотеза: Среднее расстояние поездки пользователей с подпиской равно или меньше 3130 метров. Альтернативная гипотеза : Срднее расстоние поездки пользователей с подпикой больше 3130."
   ]
  },
  {
   "cell_type": "markdown",
   "id": "e27b38de",
   "metadata": {},
   "source": [
    "<div class=\"alert alert-info\"> <b> </b> Исправила.Сделала с помощью другого теста.  </div>"
   ]
  },
  {
   "cell_type": "code",
   "execution_count": 66,
   "id": "8fc50e3a",
   "metadata": {},
   "outputs": [
    {
     "name": "stdout",
     "output_type": "stream",
     "text": [
      "0.9195368847849785\n",
      "Не получилось отвергнуть нулевую гипотезу\n"
     ]
    }
   ],
   "source": [
    "distance = 3130\n",
    "alpha = 0.05\n",
    "\n",
    "second_hyp = st.ttest_1samp(\n",
    "    users_with_subscription['distance'],distance, \n",
    "    alternative='greater')\n",
    "\n",
    "print(second_hyp.pvalue)\n",
    "\n",
    "if second_hyp.pvalue < alpha:\n",
    "    print('Отвергаем нулевую гипотезу')\n",
    "else:\n",
    "    print('Не получилось отвергнуть нулевую гипотезу')"
   ]
  },
  {
   "cell_type": "markdown",
   "id": "e98c6ea8",
   "metadata": {},
   "source": [
    "Вывод: p-значение больше 0,05, нулевая гипотеза не отвергается.  Результаты не дают оснований для вывода, что среднее расстояние проезда пользователей с подпиской превышает 3130 метров."
   ]
  },
  {
   "cell_type": "markdown",
   "id": "bc9c92e7",
   "metadata": {},
   "source": [
    "##### Проверяем гипотезу, будет ли поесячная выручка от пользователей с подпиской выше, чем у пользователей без подписки. "
   ]
  },
  {
   "cell_type": "code",
   "execution_count": 48,
   "id": "f0b3c2b9",
   "metadata": {},
   "outputs": [
    {
     "name": "stdout",
     "output_type": "stream",
     "text": [
      "1.8850394384715216e-31\n",
      "Отвергаем нулевую гипотезу\n"
     ]
    }
   ],
   "source": [
    "alpha = 0.05\n",
    "\n",
    "third_hyp = st.ttest_ind(\n",
    "    aggregated_data[aggregated_data['subscription_type'] == 'ultra']['month_income'], \n",
    "    aggregated_data[aggregated_data['subscription_type'] == 'free']['month_income'], \n",
    "    alternative='greater')\n",
    "\n",
    "print(third_hyp.pvalue)\n",
    "\n",
    "if third_hyp.pvalue < alpha:\n",
    "    print('Отвергаем нулевую гипотезу')\n",
    "else:\n",
    "    print('Не получилось отвергнуть нулевую гипотезу')"
   ]
  },
  {
   "cell_type": "markdown",
   "id": "ffac8c79",
   "metadata": {},
   "source": [
    "Мы отвергаем нулевую гипотезу и можно считать, что средняя помесячная выручка у пользователей с подпиской действительно выше, чем у пользователей без подписки."
   ]
  },
  {
   "cell_type": "markdown",
   "id": "22bc7ca5",
   "metadata": {},
   "source": [
    "##### Представьте такую ситуацию: техническая команда сервиса обновила сервера, с которыми взаимодействует мобильное приложение. Она надеется, что из-за этого количество обращений в техподдержку значимо снизилось. Некоторый файл содержит для каждого пользователя данные о количестве обращений до обновления и после него. Какой тест вам понадобился бы для проверки этой гипотезы?"
   ]
  },
  {
   "cell_type": "markdown",
   "id": "2df82b99",
   "metadata": {},
   "source": [
    "Для проверки гипотезы о том, что количество обращений в техподдержку значимо снизилось после обновления серверов нужно использовать двухвыборочный t-test  для зависимых выборок. В этом случае необхрдимо сравниваются две выборки данных (количество обращений до и после обновления) для одних и тех же пользователей. Метод из библиотеки : scipy.stats.ttest_rel()\n",
    "\n"
   ]
  },
  {
   "cell_type": "markdown",
   "id": "e6d4bdff",
   "metadata": {},
   "source": []
  },
  {
   "cell_type": "markdown",
   "id": "67e8a7fd",
   "metadata": {},
   "source": [
    "Во время проведения предобработки данных: удалили дубликаты в данных riders_go; округлили duration в соответствии с уточненными данными (п. 5.2) и перевели в int; привели столбец date к типу datetime6; создали столбец month с номером месяца из date; датафрейм subscriptions_go не трогали. \n",
    "\n",
    "Больше всего пользоватеелй в Пятигорске,Екатеринбурге и Ростове-на-Дону. Количество пользователей без подписки чуть больше 50%, с поодпиской 45%. Средний возраст \"самокатччика\" составляет 24-25 лет. Средняя длитльность поздки - 3 км, а медиана поездок приходится на 18-20 минут. Помесячная выручка сервиса составляет: 3878641 руб.\n",
    "\n",
    "Касаемо гипотез, что средняя продолжительность значительно отличается между пользователями с подпиской и без нее. Пользователи с подпиской имеют значительно отличающуюся среднюю продолжительность поезкдок по сравнению с пользователями без подписки. Результаты не дают оснований для вывода, что среднее расстояние проезда пользователей с подпиской превышает 3130 метров. Можно считать, что средняя помесячная выручка у пользователей с подпиской действительно выше, чем у пользователей без подписки.\n",
    "\n",
    "Следует развивать подписку для пользователей, так как это выгоднее для компании."
   ]
  },
  {
   "cell_type": "markdown",
   "id": "20de9205",
   "metadata": {},
   "source": []
  },
  {
   "cell_type": "markdown",
   "id": "61213c5e",
   "metadata": {},
   "source": [
    "#### Шаг 7. Распределения"
   ]
  },
  {
   "cell_type": "code",
   "execution_count": null,
   "id": "95cd1d51",
   "metadata": {},
   "outputs": [],
   "source": []
  },
  {
   "cell_type": "markdown",
   "id": "fd029e27",
   "metadata": {},
   "source": [
    "Шаг 1. Загрузка данных\n",
    "1.1 Считайте CSV-файлы с данными с помощью библиотеки pandas и сохраните их в датафреймы. \n",
    "\n",
    "Пути к файлам:\n",
    "/datasets/users_go.csv\n",
    "\n",
    "\n",
    "/datasets/rides_go.csv\n",
    "\n",
    "/datasets/subscriptions_go.csv\n",
    "\n",
    "1.2 Выведите первые строки каждого набора данных. Изучите общую информацию о каждом датафрейме.\n",
    "\n",
    "\n",
    "Шаг 2. Предобработка данных\n",
    "\n",
    "2.1 Приведите столбец date к типу даты pandas.\n",
    "2.2 Создайте новый столбец с номером месяца на основе столбца date.\n",
    "2.3 Проверьте наличие пропущенных значений и дубликатов в датафреймах. Обработайте их, если такие значения присутствуют.\n",
    "\n",
    "\n",
    "Шаг 3. Исследовательский анализ данных\n",
    "\n",
    "Опишите и визуализируйте общую информацию о пользователях и поездках:\n",
    "3.1 частота встречаемости городов;\n",
    "3.2 соотношение пользователей с подпиской и без подписки;\n",
    "3.3 возраст пользователей;\n",
    "3.4 расстояние, которое пользователь преодолел за одну поездку;\n",
    "3.5 продолжительность поездок.\n",
    "\n",
    "\n",
    "Шаг 4. Объединение данных\n",
    "\n",
    "4.1 Объедините данные о пользователях, поездках и подписках в один датафрейм. Для этого воспользуйтесь методом merge().\n",
    "4.2 Создайте ещё два датафрейма из датафрейма, созданного на этапе 4.1:\n",
    "c данными о пользователях без подписки;\n",
    "с данными о пользователях с подпиской.\n",
    "4.3 Визуализируйте информацию о расстоянии и времени поездок для пользователей обеих категорий.\n",
    "\n",
    "\n",
    "Шаг 5. Подсчёт выручки\n",
    "\n",
    "5.1 Создайте датафрейм с агрегированными данными о поездках на основе датафрейма с объединёнными данными из шага 4: найдите суммарное расстояние, количество поездок и суммарное время для каждого пользователя за каждый месяц.\n",
    "5.2 В этот же датафрейм добавьте столбец с помесячной выручкой, которую принёс каждый пользователь. Для этого обратитесь к информации об условиях оплаты для подписчиков и тех, у кого нет подписки. Продолжительность каждой поездки в каждой строке исходного датафрейма для подсчёта стоимости округляется до следующего целого числа: например, значения 25.3,25.5 и 26.0 должны быть преобразованы к  26.\n",
    "Подсказка\n",
    "rides_df['duration'] = np.ceil(rides_df['duration']) \n",
    "\n",
    "Шаг 6. Проверка гипотез\n",
    "\n",
    "\n",
    "Продакт-менеджеры сервиса хотят увеличить количество пользователей с подпиской. Для этого они будут проводить различные акции, но сначала нужно выяснить несколько важных моментов.\n",
    "6.1 Важно понять, тратят ли пользователи с подпиской больше времени на поездки? Если да, то пользователи с подпиской могут быть «выгоднее» для компании. Проверьте гипотезу. Используйте исходные данные о продолжительности каждой сессии — отдельно для подписчиков и тех, у кого нет подписки.\n",
    "6.2 Расстояние одной поездки в \n",
    "3130\n",
    "3130 метров — оптимальное с точки зрения износа самоката. Можно ли сказать, что расстояние, которое проезжают пользователи с подпиской за одну поездку, не превышает \n",
    "3130\n",
    "3130 метров? Проверьте гипотезу и сделайте выводы.\n",
    "6.3. Проверьте гипотезу о том, будет ли помесячная выручка от пользователей с подпиской по месяцам выше, чем выручка от пользователей без подписки. Сделайте вывод.\n",
    "6.4. Представьте такую ситуацию: техническая команда сервиса обновила сервера, с которыми взаимодействует мобильное приложение. Она надеется, что из-за этого количество обращений в техподдержку значимо снизилось. Некоторый файл содержит для каждого пользователя данные о количестве обращений до обновления и после него. Какой тест вам понадобился бы для проверки этой гипотезы?"
   ]
  }
 ],
 "metadata": {
  "ExecuteTimeLog": [
   {
    "duration": 3,
    "start_time": "2024-06-21T21:06:05.894Z"
   },
   {
    "duration": 62,
    "start_time": "2024-06-21T21:06:06.375Z"
   },
   {
    "duration": 9,
    "start_time": "2024-06-21T21:06:06.677Z"
   },
   {
    "duration": 8,
    "start_time": "2024-06-21T21:06:07.031Z"
   },
   {
    "duration": 7,
    "start_time": "2024-06-21T21:06:11.328Z"
   },
   {
    "duration": 10,
    "start_time": "2024-06-21T21:06:47.796Z"
   },
   {
    "duration": 9,
    "start_time": "2024-06-21T21:06:51.072Z"
   },
   {
    "duration": 16,
    "start_time": "2024-06-21T21:06:51.466Z"
   },
   {
    "duration": 10,
    "start_time": "2024-06-21T21:06:52.526Z"
   },
   {
    "duration": 7,
    "start_time": "2024-06-21T21:07:52.806Z"
   },
   {
    "duration": 8,
    "start_time": "2024-06-21T21:07:53.254Z"
   },
   {
    "duration": 7,
    "start_time": "2024-06-21T21:07:53.656Z"
   },
   {
    "duration": 3,
    "start_time": "2024-06-21T21:12:30.014Z"
   },
   {
    "duration": 62,
    "start_time": "2024-06-21T21:12:30.466Z"
   },
   {
    "duration": 40,
    "start_time": "2024-06-21T21:12:30.739Z"
   },
   {
    "duration": 8,
    "start_time": "2024-06-21T21:12:31.166Z"
   },
   {
    "duration": 7,
    "start_time": "2024-06-21T21:12:31.980Z"
   },
   {
    "duration": 10,
    "start_time": "2024-06-21T21:12:32.351Z"
   },
   {
    "duration": 11,
    "start_time": "2024-06-21T21:12:33.063Z"
   },
   {
    "duration": 9,
    "start_time": "2024-06-21T21:12:33.592Z"
   },
   {
    "duration": 6,
    "start_time": "2024-06-21T21:12:44.452Z"
   },
   {
    "duration": 7,
    "start_time": "2024-06-21T21:12:45.407Z"
   },
   {
    "duration": 42,
    "start_time": "2024-06-22T11:25:34.950Z"
   },
   {
    "duration": 1168,
    "start_time": "2024-06-22T11:25:39.975Z"
   },
   {
    "duration": 295,
    "start_time": "2024-06-22T11:25:42.215Z"
   },
   {
    "duration": 11,
    "start_time": "2024-06-22T11:25:43.761Z"
   },
   {
    "duration": 7,
    "start_time": "2024-06-22T11:25:43.938Z"
   },
   {
    "duration": 6,
    "start_time": "2024-06-22T11:25:44.136Z"
   },
   {
    "duration": 10,
    "start_time": "2024-06-22T11:25:44.337Z"
   },
   {
    "duration": 9,
    "start_time": "2024-06-22T11:25:44.576Z"
   },
   {
    "duration": 8,
    "start_time": "2024-06-22T11:25:45.038Z"
   },
   {
    "duration": 7,
    "start_time": "2024-06-22T11:25:45.709Z"
   },
   {
    "duration": 6,
    "start_time": "2024-06-22T11:25:54.320Z"
   },
   {
    "duration": 57,
    "start_time": "2024-06-22T11:25:54.729Z"
   },
   {
    "duration": 6,
    "start_time": "2024-06-22T11:26:01.802Z"
   },
   {
    "duration": 7,
    "start_time": "2024-06-22T11:26:29.212Z"
   },
   {
    "duration": 6,
    "start_time": "2024-06-22T11:26:35.517Z"
   },
   {
    "duration": 4,
    "start_time": "2024-06-22T11:27:06.422Z"
   },
   {
    "duration": 8,
    "start_time": "2024-06-22T11:27:20.268Z"
   },
   {
    "duration": 4,
    "start_time": "2024-06-22T11:27:36.924Z"
   },
   {
    "duration": 10,
    "start_time": "2024-06-22T11:30:00.719Z"
   },
   {
    "duration": 314,
    "start_time": "2024-06-22T11:30:01.025Z"
   },
   {
    "duration": 711,
    "start_time": "2024-06-22T11:30:01.377Z"
   },
   {
    "duration": 393,
    "start_time": "2024-06-22T11:30:02.109Z"
   },
   {
    "duration": 204,
    "start_time": "2024-06-22T11:30:28.111Z"
   },
   {
    "duration": 253,
    "start_time": "2024-06-22T11:30:40.800Z"
   },
   {
    "duration": 209,
    "start_time": "2024-06-22T11:30:53.571Z"
   },
   {
    "duration": 405,
    "start_time": "2024-06-22T11:30:58.176Z"
   },
   {
    "duration": 409,
    "start_time": "2024-06-22T11:31:05.313Z"
   },
   {
    "duration": 489,
    "start_time": "2024-06-22T11:31:11.455Z"
   },
   {
    "duration": 429,
    "start_time": "2024-06-22T11:31:16.129Z"
   },
   {
    "duration": 447,
    "start_time": "2024-06-22T11:31:21.128Z"
   },
   {
    "duration": 484,
    "start_time": "2024-06-22T11:31:25.296Z"
   },
   {
    "duration": 287,
    "start_time": "2024-06-22T11:31:30.548Z"
   },
   {
    "duration": 6,
    "start_time": "2024-06-22T11:31:35.329Z"
   },
   {
    "duration": 7,
    "start_time": "2024-06-22T11:31:35.743Z"
   },
   {
    "duration": 6,
    "start_time": "2024-06-22T14:21:16.838Z"
   },
   {
    "duration": 4,
    "start_time": "2024-06-22T14:21:42.422Z"
   },
   {
    "duration": 6,
    "start_time": "2024-06-22T14:22:00.903Z"
   },
   {
    "duration": 5,
    "start_time": "2024-06-22T14:22:03.916Z"
   },
   {
    "duration": 4,
    "start_time": "2024-06-22T14:22:15.061Z"
   },
   {
    "duration": 4,
    "start_time": "2024-06-22T14:22:31.314Z"
   },
   {
    "duration": 3,
    "start_time": "2024-06-22T14:23:21.473Z"
   },
   {
    "duration": 3,
    "start_time": "2024-06-22T14:55:16.856Z"
   },
   {
    "duration": 4,
    "start_time": "2024-06-22T14:55:17.659Z"
   },
   {
    "duration": 159,
    "start_time": "2024-06-22T16:13:29.745Z"
   },
   {
    "duration": 163,
    "start_time": "2024-06-22T16:13:53.112Z"
   },
   {
    "duration": 3,
    "start_time": "2024-06-22T16:15:16.385Z"
   },
   {
    "duration": 4,
    "start_time": "2024-06-22T16:15:27.494Z"
   },
   {
    "duration": 111,
    "start_time": "2024-06-22T16:15:49.402Z"
   },
   {
    "duration": 114,
    "start_time": "2024-06-22T16:15:55.530Z"
   },
   {
    "duration": 116,
    "start_time": "2024-06-22T16:35:09.230Z"
   },
   {
    "duration": 142,
    "start_time": "2024-06-22T16:35:13.712Z"
   },
   {
    "duration": 4,
    "start_time": "2024-06-22T16:56:57.049Z"
   },
   {
    "duration": 3,
    "start_time": "2024-06-22T16:57:03.036Z"
   },
   {
    "duration": 3,
    "start_time": "2024-06-22T16:57:12.322Z"
   },
   {
    "duration": 56,
    "start_time": "2024-06-22T16:57:20.821Z"
   },
   {
    "duration": 50,
    "start_time": "2024-06-22T16:57:26.866Z"
   },
   {
    "duration": 9,
    "start_time": "2024-06-22T17:05:27.953Z"
   },
   {
    "duration": 18,
    "start_time": "2024-06-22T17:05:39.915Z"
   },
   {
    "duration": 16,
    "start_time": "2024-06-22T17:05:59.324Z"
   },
   {
    "duration": 7,
    "start_time": "2024-06-22T17:06:58.475Z"
   },
   {
    "duration": 14,
    "start_time": "2024-06-22T17:11:59.072Z"
   },
   {
    "duration": 12,
    "start_time": "2024-06-22T17:12:07.590Z"
   },
   {
    "duration": 159,
    "start_time": "2024-06-22T17:12:17.990Z"
   },
   {
    "duration": 154,
    "start_time": "2024-06-22T17:12:28.962Z"
   },
   {
    "duration": 138,
    "start_time": "2024-06-22T17:12:49.963Z"
   },
   {
    "duration": 138,
    "start_time": "2024-06-22T17:13:30.633Z"
   },
   {
    "duration": 915,
    "start_time": "2024-06-22T17:15:30.768Z"
   },
   {
    "duration": 53,
    "start_time": "2024-06-22T17:15:43.046Z"
   },
   {
    "duration": 15342,
    "start_time": "2024-06-22T17:16:35.596Z"
   },
   {
    "duration": 139,
    "start_time": "2024-06-22T17:16:50.939Z"
   },
   {
    "duration": 1266,
    "start_time": "2024-06-22T22:06:22.866Z"
   },
   {
    "duration": 298,
    "start_time": "2024-06-22T22:06:24.133Z"
   },
   {
    "duration": 10,
    "start_time": "2024-06-22T22:06:24.432Z"
   },
   {
    "duration": 6,
    "start_time": "2024-06-22T22:06:24.443Z"
   },
   {
    "duration": 39,
    "start_time": "2024-06-22T22:06:24.450Z"
   },
   {
    "duration": 13,
    "start_time": "2024-06-22T22:06:25.153Z"
   },
   {
    "duration": 9,
    "start_time": "2024-06-22T22:06:25.868Z"
   },
   {
    "duration": 8,
    "start_time": "2024-06-22T22:06:27.092Z"
   },
   {
    "duration": 166,
    "start_time": "2024-06-22T22:06:29.367Z"
   },
   {
    "duration": 286,
    "start_time": "2024-06-22T22:06:29.722Z"
   },
   {
    "duration": 204,
    "start_time": "2024-06-22T22:06:30.214Z"
   },
   {
    "duration": 252,
    "start_time": "2024-06-22T22:06:39.076Z"
   },
   {
    "duration": 6,
    "start_time": "2024-06-22T22:06:42.663Z"
   },
   {
    "duration": 6,
    "start_time": "2024-06-22T22:06:43.107Z"
   },
   {
    "duration": 6,
    "start_time": "2024-06-22T22:06:43.528Z"
   },
   {
    "duration": 6,
    "start_time": "2024-06-22T22:06:43.899Z"
   },
   {
    "duration": 4,
    "start_time": "2024-06-22T22:06:44.299Z"
   },
   {
    "duration": 4,
    "start_time": "2024-06-22T22:06:44.798Z"
   },
   {
    "duration": 3,
    "start_time": "2024-06-22T22:06:45.251Z"
   },
   {
    "duration": 5,
    "start_time": "2024-06-22T22:06:45.720Z"
   },
   {
    "duration": 4,
    "start_time": "2024-06-22T22:06:46.214Z"
   },
   {
    "duration": 4,
    "start_time": "2024-06-22T22:06:46.552Z"
   },
   {
    "duration": 4,
    "start_time": "2024-06-22T22:06:46.763Z"
   },
   {
    "duration": 3,
    "start_time": "2024-06-22T22:06:46.953Z"
   },
   {
    "duration": 4,
    "start_time": "2024-06-22T22:06:48.000Z"
   },
   {
    "duration": 100,
    "start_time": "2024-06-22T22:06:48.353Z"
   },
   {
    "duration": 144,
    "start_time": "2024-06-22T22:06:48.936Z"
   },
   {
    "duration": 13942,
    "start_time": "2024-06-22T22:07:16.623Z"
   },
   {
    "duration": 270,
    "start_time": "2024-06-22T22:07:30.567Z"
   },
   {
    "duration": 13745,
    "start_time": "2024-06-22T22:08:46.130Z"
   },
   {
    "duration": 8,
    "start_time": "2024-06-22T22:09:25.570Z"
   },
   {
    "duration": 13772,
    "start_time": "2024-06-22T22:09:36.900Z"
   },
   {
    "duration": 13913,
    "start_time": "2024-06-22T22:10:12.157Z"
   },
   {
    "duration": 13816,
    "start_time": "2024-06-22T22:12:56.417Z"
   },
   {
    "duration": 13481,
    "start_time": "2024-06-22T22:13:19.418Z"
   },
   {
    "duration": 13412,
    "start_time": "2024-06-22T22:16:26.664Z"
   },
   {
    "duration": 6,
    "start_time": "2024-06-22T22:17:19.101Z"
   },
   {
    "duration": 82,
    "start_time": "2024-06-22T22:21:27.027Z"
   },
   {
    "duration": 177,
    "start_time": "2024-06-22T22:22:25.757Z"
   },
   {
    "duration": 175,
    "start_time": "2024-06-22T22:22:51.325Z"
   },
   {
    "duration": 8,
    "start_time": "2024-06-22T22:23:28.465Z"
   },
   {
    "duration": 171,
    "start_time": "2024-06-22T22:24:25.669Z"
   },
   {
    "duration": 6,
    "start_time": "2024-06-22T22:24:25.955Z"
   },
   {
    "duration": 152,
    "start_time": "2024-06-22T22:24:26.721Z"
   },
   {
    "duration": 295,
    "start_time": "2024-06-22T22:24:32.506Z"
   },
   {
    "duration": 143,
    "start_time": "2024-06-22T22:24:39.793Z"
   },
   {
    "duration": 145,
    "start_time": "2024-06-22T22:25:36.128Z"
   },
   {
    "duration": 168,
    "start_time": "2024-06-22T22:34:11.791Z"
   },
   {
    "duration": 6,
    "start_time": "2024-06-22T22:34:13.103Z"
   },
   {
    "duration": 143,
    "start_time": "2024-06-22T22:34:13.602Z"
   },
   {
    "duration": 11,
    "start_time": "2024-06-22T22:34:14.872Z"
   },
   {
    "duration": 1021,
    "start_time": "2024-06-23T16:25:47.939Z"
   },
   {
    "duration": 302,
    "start_time": "2024-06-23T16:25:48.962Z"
   },
   {
    "duration": 9,
    "start_time": "2024-06-23T16:25:49.265Z"
   },
   {
    "duration": 7,
    "start_time": "2024-06-23T16:25:51.815Z"
   },
   {
    "duration": 6,
    "start_time": "2024-06-23T16:25:53.598Z"
   },
   {
    "duration": 9,
    "start_time": "2024-06-23T16:25:53.907Z"
   },
   {
    "duration": 8,
    "start_time": "2024-06-23T16:25:54.126Z"
   },
   {
    "duration": 8,
    "start_time": "2024-06-23T16:25:54.377Z"
   },
   {
    "duration": 154,
    "start_time": "2024-06-23T16:25:54.566Z"
   },
   {
    "duration": 306,
    "start_time": "2024-06-23T16:25:54.760Z"
   },
   {
    "duration": 269,
    "start_time": "2024-06-23T16:25:55.068Z"
   },
   {
    "duration": 6,
    "start_time": "2024-06-23T16:25:55.338Z"
   },
   {
    "duration": 6,
    "start_time": "2024-06-23T16:25:55.542Z"
   },
   {
    "duration": 5,
    "start_time": "2024-06-23T16:25:55.744Z"
   },
   {
    "duration": 6,
    "start_time": "2024-06-23T16:25:55.948Z"
   },
   {
    "duration": 4,
    "start_time": "2024-06-23T16:25:56.150Z"
   },
   {
    "duration": 4,
    "start_time": "2024-06-23T16:25:56.352Z"
   },
   {
    "duration": 4,
    "start_time": "2024-06-23T16:25:56.558Z"
   },
   {
    "duration": 7,
    "start_time": "2024-06-23T16:25:56.743Z"
   },
   {
    "duration": 4,
    "start_time": "2024-06-23T16:25:56.946Z"
   },
   {
    "duration": 4,
    "start_time": "2024-06-23T16:25:57.099Z"
   },
   {
    "duration": 4,
    "start_time": "2024-06-23T16:25:57.292Z"
   },
   {
    "duration": 4,
    "start_time": "2024-06-23T16:25:57.480Z"
   },
   {
    "duration": 4,
    "start_time": "2024-06-23T16:25:57.855Z"
   },
   {
    "duration": 99,
    "start_time": "2024-06-23T16:25:58.060Z"
   },
   {
    "duration": 125,
    "start_time": "2024-06-23T16:25:58.272Z"
   },
   {
    "duration": 13306,
    "start_time": "2024-06-23T16:26:25.048Z"
   },
   {
    "duration": 13321,
    "start_time": "2024-06-23T16:26:38.355Z"
   },
   {
    "duration": 6,
    "start_time": "2024-06-23T16:26:51.677Z"
   },
   {
    "duration": 184,
    "start_time": "2024-06-23T16:26:51.689Z"
   },
   {
    "duration": 31740,
    "start_time": "2024-06-23T16:34:38.196Z"
   },
   {
    "duration": 127,
    "start_time": "2024-06-23T16:36:45.394Z"
   },
   {
    "duration": 31790,
    "start_time": "2024-06-23T16:36:45.523Z"
   },
   {
    "duration": 157,
    "start_time": "2024-06-23T16:37:17.314Z"
   },
   {
    "duration": 48,
    "start_time": "2024-06-23T16:38:39.043Z"
   },
   {
    "duration": 12,
    "start_time": "2024-06-23T16:39:09.725Z"
   },
   {
    "duration": 9,
    "start_time": "2024-06-23T16:39:24.946Z"
   },
   {
    "duration": 167,
    "start_time": "2024-06-23T17:19:20.189Z"
   },
   {
    "duration": 176,
    "start_time": "2024-06-23T17:19:42.870Z"
   },
   {
    "duration": 6,
    "start_time": "2024-06-23T17:20:14.938Z"
   },
   {
    "duration": 4,
    "start_time": "2024-06-23T17:20:51.162Z"
   },
   {
    "duration": 126,
    "start_time": "2024-06-23T17:20:52.569Z"
   },
   {
    "duration": 136,
    "start_time": "2024-06-23T17:20:53.640Z"
   },
   {
    "duration": 6,
    "start_time": "2024-06-23T17:20:54.164Z"
   },
   {
    "duration": 150,
    "start_time": "2024-06-23T17:20:54.671Z"
   },
   {
    "duration": 7,
    "start_time": "2024-06-23T17:21:01.126Z"
   },
   {
    "duration": 229,
    "start_time": "2024-06-23T17:21:02.356Z"
   },
   {
    "duration": 7,
    "start_time": "2024-06-23T17:21:04.940Z"
   },
   {
    "duration": 155,
    "start_time": "2024-06-23T17:21:05.137Z"
   },
   {
    "duration": 14,
    "start_time": "2024-06-23T17:21:05.514Z"
   },
   {
    "duration": 9,
    "start_time": "2024-06-23T17:21:05.933Z"
   },
   {
    "duration": 14,
    "start_time": "2024-06-23T17:24:57.810Z"
   },
   {
    "duration": 17,
    "start_time": "2024-06-23T17:26:35.164Z"
   },
   {
    "duration": 21,
    "start_time": "2024-06-23T17:26:40.917Z"
   },
   {
    "duration": 284,
    "start_time": "2024-06-23T17:27:07.284Z"
   },
   {
    "duration": 235,
    "start_time": "2024-06-23T17:27:37.198Z"
   },
   {
    "duration": 193,
    "start_time": "2024-06-23T17:27:46.216Z"
   },
   {
    "duration": 289,
    "start_time": "2024-06-23T17:29:01.945Z"
   },
   {
    "duration": 201,
    "start_time": "2024-06-23T17:29:41.343Z"
   },
   {
    "duration": 216,
    "start_time": "2024-06-23T17:32:11.045Z"
   },
   {
    "duration": 198,
    "start_time": "2024-06-23T17:57:26.894Z"
   },
   {
    "duration": 200,
    "start_time": "2024-06-23T17:57:35.429Z"
   },
   {
    "duration": 83,
    "start_time": "2024-06-23T19:10:47.036Z"
   },
   {
    "duration": 250,
    "start_time": "2024-06-23T20:30:15.455Z"
   },
   {
    "duration": 221,
    "start_time": "2024-06-23T20:30:34.573Z"
   },
   {
    "duration": 275,
    "start_time": "2024-06-23T20:32:19.989Z"
   },
   {
    "duration": 29,
    "start_time": "2024-06-23T20:33:26.304Z"
   },
   {
    "duration": 3,
    "start_time": "2024-06-23T20:33:46.806Z"
   },
   {
    "duration": 3,
    "start_time": "2024-06-23T20:34:00.427Z"
   },
   {
    "duration": 7,
    "start_time": "2024-06-23T20:34:25.298Z"
   },
   {
    "duration": 8,
    "start_time": "2024-06-23T20:34:45.364Z"
   },
   {
    "duration": 122,
    "start_time": "2024-06-23T20:35:44.495Z"
   },
   {
    "duration": 8,
    "start_time": "2024-06-23T20:35:59.829Z"
   },
   {
    "duration": 8,
    "start_time": "2024-06-23T20:36:31.563Z"
   },
   {
    "duration": 3,
    "start_time": "2024-06-23T20:36:37.331Z"
   },
   {
    "duration": 221,
    "start_time": "2024-06-23T20:39:54.388Z"
   },
   {
    "duration": 200,
    "start_time": "2024-06-23T20:39:56.062Z"
   },
   {
    "duration": 126,
    "start_time": "2024-06-23T20:40:10.587Z"
   },
   {
    "duration": 55,
    "start_time": "2024-06-24T20:25:09.437Z"
   },
   {
    "duration": 6,
    "start_time": "2024-06-24T20:25:51.154Z"
   },
   {
    "duration": 1314,
    "start_time": "2024-06-24T20:26:41.886Z"
   },
   {
    "duration": 209,
    "start_time": "2024-06-24T20:26:43.202Z"
   },
   {
    "duration": 11,
    "start_time": "2024-06-24T20:26:44.632Z"
   },
   {
    "duration": 8,
    "start_time": "2024-06-24T20:26:44.940Z"
   },
   {
    "duration": 7,
    "start_time": "2024-06-24T20:26:45.139Z"
   },
   {
    "duration": 11,
    "start_time": "2024-06-24T20:26:45.352Z"
   },
   {
    "duration": 10,
    "start_time": "2024-06-24T20:26:45.536Z"
   },
   {
    "duration": 10,
    "start_time": "2024-06-24T20:26:45.724Z"
   },
   {
    "duration": 188,
    "start_time": "2024-06-24T20:26:45.889Z"
   },
   {
    "duration": 348,
    "start_time": "2024-06-24T20:26:46.080Z"
   },
   {
    "duration": 295,
    "start_time": "2024-06-24T20:26:46.430Z"
   },
   {
    "duration": 6,
    "start_time": "2024-06-24T20:26:46.727Z"
   },
   {
    "duration": 7,
    "start_time": "2024-06-24T20:26:49.685Z"
   },
   {
    "duration": 6,
    "start_time": "2024-06-24T20:26:50.273Z"
   },
   {
    "duration": 7,
    "start_time": "2024-06-24T20:26:50.649Z"
   },
   {
    "duration": 4,
    "start_time": "2024-06-24T20:26:51.140Z"
   },
   {
    "duration": 3,
    "start_time": "2024-06-24T20:26:51.333Z"
   },
   {
    "duration": 4,
    "start_time": "2024-06-24T20:26:51.535Z"
   },
   {
    "duration": 7,
    "start_time": "2024-06-24T20:26:51.777Z"
   },
   {
    "duration": 5,
    "start_time": "2024-06-24T20:26:52.037Z"
   },
   {
    "duration": 5,
    "start_time": "2024-06-24T20:26:52.371Z"
   },
   {
    "duration": 5,
    "start_time": "2024-06-24T20:26:52.818Z"
   },
   {
    "duration": 3,
    "start_time": "2024-06-24T20:26:52.990Z"
   },
   {
    "duration": 5,
    "start_time": "2024-06-24T20:26:53.401Z"
   },
   {
    "duration": 66,
    "start_time": "2024-06-24T20:26:53.706Z"
   },
   {
    "duration": 160,
    "start_time": "2024-06-24T20:26:53.909Z"
   },
   {
    "duration": 8,
    "start_time": "2024-06-24T20:26:54.357Z"
   },
   {
    "duration": 150,
    "start_time": "2024-06-24T20:26:54.860Z"
   },
   {
    "duration": 8,
    "start_time": "2024-06-24T20:26:55.480Z"
   },
   {
    "duration": 206,
    "start_time": "2024-06-24T20:26:55.914Z"
   },
   {
    "duration": 8,
    "start_time": "2024-06-24T20:26:56.265Z"
   },
   {
    "duration": 200,
    "start_time": "2024-06-24T20:26:56.609Z"
   },
   {
    "duration": 17,
    "start_time": "2024-06-24T20:26:57.152Z"
   },
   {
    "duration": 17,
    "start_time": "2024-06-24T20:26:57.471Z"
   },
   {
    "duration": 21,
    "start_time": "2024-06-24T20:26:57.911Z"
   },
   {
    "duration": 21,
    "start_time": "2024-06-24T20:26:58.341Z"
   },
   {
    "duration": 326,
    "start_time": "2024-06-24T20:26:58.768Z"
   },
   {
    "duration": 249,
    "start_time": "2024-06-24T20:26:59.166Z"
   },
   {
    "duration": 36,
    "start_time": "2024-06-24T20:27:00.302Z"
   },
   {
    "duration": 8,
    "start_time": "2024-06-24T20:27:01.251Z"
   },
   {
    "duration": 4,
    "start_time": "2024-06-24T20:27:02.503Z"
   },
   {
    "duration": 8,
    "start_time": "2024-06-24T20:27:03.283Z"
   },
   {
    "duration": 10,
    "start_time": "2024-06-24T20:27:56.998Z"
   },
   {
    "duration": 6,
    "start_time": "2024-06-24T20:29:02.350Z"
   },
   {
    "duration": 10,
    "start_time": "2024-06-24T20:29:18.036Z"
   },
   {
    "duration": 9,
    "start_time": "2024-06-24T20:30:26.110Z"
   },
   {
    "duration": 10,
    "start_time": "2024-06-24T20:30:40.768Z"
   },
   {
    "duration": 4,
    "start_time": "2024-06-24T20:32:39.252Z"
   },
   {
    "duration": 9,
    "start_time": "2024-06-24T20:32:39.393Z"
   },
   {
    "duration": 2,
    "start_time": "2024-06-24T20:33:10.763Z"
   },
   {
    "duration": 4,
    "start_time": "2024-06-24T20:33:34.146Z"
   },
   {
    "duration": 7,
    "start_time": "2024-06-24T20:33:34.523Z"
   },
   {
    "duration": 149,
    "start_time": "2024-06-24T20:33:48.557Z"
   },
   {
    "duration": 4,
    "start_time": "2024-06-24T20:34:28.666Z"
   },
   {
    "duration": 149,
    "start_time": "2024-06-24T20:34:29.051Z"
   },
   {
    "duration": 7,
    "start_time": "2024-06-24T20:34:59.514Z"
   },
   {
    "duration": 202,
    "start_time": "2024-06-24T20:35:10.704Z"
   },
   {
    "duration": 3,
    "start_time": "2024-06-24T20:35:22.769Z"
   },
   {
    "duration": 195,
    "start_time": "2024-06-24T20:35:23.519Z"
   },
   {
    "duration": 140,
    "start_time": "2024-06-24T20:35:32.082Z"
   },
   {
    "duration": 144,
    "start_time": "2024-06-24T20:35:32.383Z"
   },
   {
    "duration": 6,
    "start_time": "2024-06-24T20:35:37.077Z"
   },
   {
    "duration": 168,
    "start_time": "2024-06-24T20:35:37.552Z"
   },
   {
    "duration": 8,
    "start_time": "2024-06-24T20:35:37.941Z"
   },
   {
    "duration": 200,
    "start_time": "2024-06-24T20:35:38.389Z"
   },
   {
    "duration": 7,
    "start_time": "2024-06-24T20:35:38.650Z"
   },
   {
    "duration": 245,
    "start_time": "2024-06-24T20:35:39.255Z"
   },
   {
    "duration": 13,
    "start_time": "2024-06-24T20:35:40.155Z"
   },
   {
    "duration": 17,
    "start_time": "2024-06-24T20:35:40.485Z"
   },
   {
    "duration": 19,
    "start_time": "2024-06-24T20:35:40.685Z"
   },
   {
    "duration": 17,
    "start_time": "2024-06-24T20:35:40.929Z"
   },
   {
    "duration": 247,
    "start_time": "2024-06-24T20:35:41.183Z"
   },
   {
    "duration": 241,
    "start_time": "2024-06-24T20:35:41.621Z"
   },
   {
    "duration": 34,
    "start_time": "2024-06-24T20:35:42.591Z"
   },
   {
    "duration": 9,
    "start_time": "2024-06-24T20:35:42.985Z"
   },
   {
    "duration": 3,
    "start_time": "2024-06-24T20:35:43.750Z"
   },
   {
    "duration": 5,
    "start_time": "2024-06-24T20:35:44.153Z"
   },
   {
    "duration": 10,
    "start_time": "2024-06-24T20:35:44.370Z"
   },
   {
    "duration": 4,
    "start_time": "2024-06-24T20:36:14.409Z"
   },
   {
    "duration": 90,
    "start_time": "2024-06-24T20:36:55.444Z"
   },
   {
    "duration": 3,
    "start_time": "2024-06-24T20:37:01.947Z"
   },
   {
    "duration": 4,
    "start_time": "2024-06-24T20:37:19.906Z"
   },
   {
    "duration": 8,
    "start_time": "2024-06-24T20:56:02.228Z"
   },
   {
    "duration": 8,
    "start_time": "2024-06-24T20:56:54.671Z"
   },
   {
    "duration": 8,
    "start_time": "2024-06-24T20:57:19.562Z"
   },
   {
    "duration": 9,
    "start_time": "2024-06-24T20:57:20.412Z"
   },
   {
    "duration": 4,
    "start_time": "2024-06-24T20:58:25.885Z"
   },
   {
    "duration": 69,
    "start_time": "2024-06-24T20:58:26.374Z"
   },
   {
    "duration": 7,
    "start_time": "2024-06-24T20:58:26.939Z"
   },
   {
    "duration": 7,
    "start_time": "2024-06-24T20:58:27.104Z"
   },
   {
    "duration": 7,
    "start_time": "2024-06-24T20:58:27.298Z"
   },
   {
    "duration": 13,
    "start_time": "2024-06-24T20:58:27.462Z"
   },
   {
    "duration": 9,
    "start_time": "2024-06-24T20:58:27.641Z"
   },
   {
    "duration": 9,
    "start_time": "2024-06-24T20:58:27.819Z"
   },
   {
    "duration": 213,
    "start_time": "2024-06-24T20:58:28.008Z"
   },
   {
    "duration": 423,
    "start_time": "2024-06-24T20:58:28.222Z"
   },
   {
    "duration": 354,
    "start_time": "2024-06-24T20:58:28.647Z"
   },
   {
    "duration": 14,
    "start_time": "2024-06-24T20:58:29.002Z"
   },
   {
    "duration": 7,
    "start_time": "2024-06-24T20:58:29.017Z"
   },
   {
    "duration": 6,
    "start_time": "2024-06-24T20:58:29.287Z"
   },
   {
    "duration": 6,
    "start_time": "2024-06-24T20:58:29.472Z"
   },
   {
    "duration": 4,
    "start_time": "2024-06-24T20:58:29.667Z"
   },
   {
    "duration": 4,
    "start_time": "2024-06-24T20:58:29.854Z"
   },
   {
    "duration": 3,
    "start_time": "2024-06-24T20:58:30.033Z"
   },
   {
    "duration": 6,
    "start_time": "2024-06-24T20:58:30.225Z"
   },
   {
    "duration": 5,
    "start_time": "2024-06-24T20:58:30.404Z"
   },
   {
    "duration": 4,
    "start_time": "2024-06-24T20:58:30.594Z"
   },
   {
    "duration": 4,
    "start_time": "2024-06-24T20:58:30.792Z"
   },
   {
    "duration": 4,
    "start_time": "2024-06-24T20:58:30.972Z"
   },
   {
    "duration": 4,
    "start_time": "2024-06-24T20:58:31.342Z"
   },
   {
    "duration": 3,
    "start_time": "2024-06-24T20:58:31.543Z"
   },
   {
    "duration": 139,
    "start_time": "2024-06-24T20:58:31.738Z"
   },
   {
    "duration": 154,
    "start_time": "2024-06-24T20:58:31.929Z"
   },
   {
    "duration": 7,
    "start_time": "2024-06-24T20:58:32.109Z"
   },
   {
    "duration": 233,
    "start_time": "2024-06-24T20:58:32.315Z"
   },
   {
    "duration": 7,
    "start_time": "2024-06-24T20:58:32.550Z"
   },
   {
    "duration": 199,
    "start_time": "2024-06-24T20:58:32.707Z"
   },
   {
    "duration": 6,
    "start_time": "2024-06-24T20:58:32.912Z"
   },
   {
    "duration": 197,
    "start_time": "2024-06-24T20:58:33.086Z"
   },
   {
    "duration": 15,
    "start_time": "2024-06-24T20:58:33.489Z"
   },
   {
    "duration": 17,
    "start_time": "2024-06-24T20:58:33.678Z"
   },
   {
    "duration": 19,
    "start_time": "2024-06-24T20:58:33.872Z"
   },
   {
    "duration": 19,
    "start_time": "2024-06-24T20:58:34.078Z"
   },
   {
    "duration": 254,
    "start_time": "2024-06-24T20:58:34.273Z"
   },
   {
    "duration": 251,
    "start_time": "2024-06-24T20:58:34.529Z"
   },
   {
    "duration": 35,
    "start_time": "2024-06-24T20:58:35.058Z"
   },
   {
    "duration": 8,
    "start_time": "2024-06-24T20:58:35.259Z"
   },
   {
    "duration": 2,
    "start_time": "2024-06-24T20:58:35.896Z"
   },
   {
    "duration": 5,
    "start_time": "2024-06-24T20:58:36.104Z"
   },
   {
    "duration": 10,
    "start_time": "2024-06-24T20:58:36.300Z"
   },
   {
    "duration": 3,
    "start_time": "2024-06-24T20:58:36.508Z"
   },
   {
    "duration": 8,
    "start_time": "2024-06-24T20:58:37.846Z"
   },
   {
    "duration": 9,
    "start_time": "2024-06-24T20:58:38.286Z"
   },
   {
    "duration": 9,
    "start_time": "2024-06-24T20:58:40.790Z"
   },
   {
    "duration": 9,
    "start_time": "2024-06-24T20:59:24.554Z"
   },
   {
    "duration": 5,
    "start_time": "2024-06-24T20:59:50.148Z"
   },
   {
    "duration": 5,
    "start_time": "2024-06-24T21:01:21.169Z"
   },
   {
    "duration": 3,
    "start_time": "2024-06-24T21:06:48.423Z"
   },
   {
    "duration": 68,
    "start_time": "2024-06-24T21:06:48.934Z"
   },
   {
    "duration": 8,
    "start_time": "2024-06-24T21:06:49.324Z"
   },
   {
    "duration": 7,
    "start_time": "2024-06-24T21:06:49.516Z"
   },
   {
    "duration": 6,
    "start_time": "2024-06-24T21:06:49.694Z"
   },
   {
    "duration": 9,
    "start_time": "2024-06-24T21:06:49.890Z"
   },
   {
    "duration": 10,
    "start_time": "2024-06-24T21:06:50.079Z"
   },
   {
    "duration": 10,
    "start_time": "2024-06-24T21:06:50.263Z"
   },
   {
    "duration": 216,
    "start_time": "2024-06-24T21:06:50.446Z"
   },
   {
    "duration": 429,
    "start_time": "2024-06-24T21:06:50.664Z"
   },
   {
    "duration": 363,
    "start_time": "2024-06-24T21:06:51.095Z"
   },
   {
    "duration": 6,
    "start_time": "2024-06-24T21:06:51.460Z"
   },
   {
    "duration": 9,
    "start_time": "2024-06-24T21:06:51.468Z"
   },
   {
    "duration": 7,
    "start_time": "2024-06-24T21:06:51.551Z"
   },
   {
    "duration": 6,
    "start_time": "2024-06-24T21:06:51.740Z"
   },
   {
    "duration": 4,
    "start_time": "2024-06-24T21:06:51.932Z"
   },
   {
    "duration": 4,
    "start_time": "2024-06-24T21:06:52.097Z"
   },
   {
    "duration": 4,
    "start_time": "2024-06-24T21:06:52.262Z"
   },
   {
    "duration": 7,
    "start_time": "2024-06-24T21:06:52.466Z"
   },
   {
    "duration": 5,
    "start_time": "2024-06-24T21:06:52.658Z"
   },
   {
    "duration": 6,
    "start_time": "2024-06-24T21:06:52.816Z"
   },
   {
    "duration": 6,
    "start_time": "2024-06-24T21:06:53.002Z"
   },
   {
    "duration": 4,
    "start_time": "2024-06-24T21:06:53.188Z"
   },
   {
    "duration": 5,
    "start_time": "2024-06-24T21:06:53.753Z"
   },
   {
    "duration": 5,
    "start_time": "2024-06-24T21:06:53.759Z"
   },
   {
    "duration": 141,
    "start_time": "2024-06-24T21:06:53.936Z"
   },
   {
    "duration": 222,
    "start_time": "2024-06-24T21:06:54.187Z"
   },
   {
    "duration": 7,
    "start_time": "2024-06-24T21:06:54.412Z"
   },
   {
    "duration": 167,
    "start_time": "2024-06-24T21:06:54.598Z"
   },
   {
    "duration": 7,
    "start_time": "2024-06-24T21:06:55.024Z"
   },
   {
    "duration": 197,
    "start_time": "2024-06-24T21:06:55.292Z"
   },
   {
    "duration": 10,
    "start_time": "2024-06-24T21:06:55.491Z"
   },
   {
    "duration": 195,
    "start_time": "2024-06-24T21:06:55.669Z"
   },
   {
    "duration": 13,
    "start_time": "2024-06-24T21:06:56.067Z"
   },
   {
    "duration": 16,
    "start_time": "2024-06-24T21:06:56.284Z"
   },
   {
    "duration": 19,
    "start_time": "2024-06-24T21:06:56.503Z"
   },
   {
    "duration": 18,
    "start_time": "2024-06-24T21:06:56.707Z"
   },
   {
    "duration": 255,
    "start_time": "2024-06-24T21:06:56.902Z"
   },
   {
    "duration": 250,
    "start_time": "2024-06-24T21:06:57.159Z"
   },
   {
    "duration": 34,
    "start_time": "2024-06-24T21:06:58.085Z"
   },
   {
    "duration": 8,
    "start_time": "2024-06-24T21:06:58.636Z"
   },
   {
    "duration": 2,
    "start_time": "2024-06-24T21:06:59.457Z"
   },
   {
    "duration": 4,
    "start_time": "2024-06-24T21:06:59.864Z"
   },
   {
    "duration": 10,
    "start_time": "2024-06-24T21:07:00.111Z"
   },
   {
    "duration": 4,
    "start_time": "2024-06-24T21:07:00.566Z"
   },
   {
    "duration": 5,
    "start_time": "2024-06-24T21:07:06.296Z"
   },
   {
    "duration": 71,
    "start_time": "2024-06-24T21:07:21.704Z"
   },
   {
    "duration": 2,
    "start_time": "2024-06-24T21:07:31.586Z"
   },
   {
    "duration": 68,
    "start_time": "2024-06-24T21:07:31.798Z"
   },
   {
    "duration": 11,
    "start_time": "2024-06-24T21:07:31.998Z"
   },
   {
    "duration": 10,
    "start_time": "2024-06-24T21:07:32.195Z"
   },
   {
    "duration": 6,
    "start_time": "2024-06-24T21:07:32.358Z"
   },
   {
    "duration": 9,
    "start_time": "2024-06-24T21:07:32.561Z"
   },
   {
    "duration": 9,
    "start_time": "2024-06-24T21:07:32.734Z"
   },
   {
    "duration": 9,
    "start_time": "2024-06-24T21:07:32.936Z"
   },
   {
    "duration": 217,
    "start_time": "2024-06-24T21:07:33.102Z"
   },
   {
    "duration": 450,
    "start_time": "2024-06-24T21:07:33.320Z"
   },
   {
    "duration": 358,
    "start_time": "2024-06-24T21:07:33.771Z"
   },
   {
    "duration": 6,
    "start_time": "2024-06-24T21:07:34.131Z"
   },
   {
    "duration": 12,
    "start_time": "2024-06-24T21:07:34.139Z"
   },
   {
    "duration": 7,
    "start_time": "2024-06-24T21:07:34.180Z"
   },
   {
    "duration": 6,
    "start_time": "2024-06-24T21:07:34.382Z"
   },
   {
    "duration": 5,
    "start_time": "2024-06-24T21:07:34.586Z"
   },
   {
    "duration": 4,
    "start_time": "2024-06-24T21:07:35.094Z"
   },
   {
    "duration": 4,
    "start_time": "2024-06-24T21:07:35.271Z"
   },
   {
    "duration": 7,
    "start_time": "2024-06-24T21:07:35.466Z"
   },
   {
    "duration": 5,
    "start_time": "2024-06-24T21:07:35.654Z"
   },
   {
    "duration": 5,
    "start_time": "2024-06-24T21:07:35.846Z"
   },
   {
    "duration": 5,
    "start_time": "2024-06-24T21:07:36.229Z"
   },
   {
    "duration": 4,
    "start_time": "2024-06-24T21:07:36.428Z"
   },
   {
    "duration": 4,
    "start_time": "2024-06-24T21:07:36.814Z"
   },
   {
    "duration": 3,
    "start_time": "2024-06-24T21:07:37.016Z"
   },
   {
    "duration": 219,
    "start_time": "2024-06-24T21:07:37.191Z"
   },
   {
    "duration": 155,
    "start_time": "2024-06-24T21:07:37.411Z"
   },
   {
    "duration": 7,
    "start_time": "2024-06-24T21:07:37.569Z"
   },
   {
    "duration": 179,
    "start_time": "2024-06-24T21:07:37.748Z"
   },
   {
    "duration": 7,
    "start_time": "2024-06-24T21:07:37.935Z"
   },
   {
    "duration": 196,
    "start_time": "2024-06-24T21:07:38.149Z"
   },
   {
    "duration": 7,
    "start_time": "2024-06-24T21:07:38.347Z"
   },
   {
    "duration": 184,
    "start_time": "2024-06-24T21:07:38.516Z"
   },
   {
    "duration": 13,
    "start_time": "2024-06-24T21:07:38.890Z"
   },
   {
    "duration": 19,
    "start_time": "2024-06-24T21:07:39.082Z"
   },
   {
    "duration": 20,
    "start_time": "2024-06-24T21:07:39.289Z"
   },
   {
    "duration": 18,
    "start_time": "2024-06-24T21:07:39.476Z"
   },
   {
    "duration": 236,
    "start_time": "2024-06-24T21:07:39.660Z"
   },
   {
    "duration": 254,
    "start_time": "2024-06-24T21:07:39.898Z"
   },
   {
    "duration": 37,
    "start_time": "2024-06-24T21:07:40.754Z"
   },
   {
    "duration": 9,
    "start_time": "2024-06-24T21:07:41.025Z"
   },
   {
    "duration": 2,
    "start_time": "2024-06-24T21:07:41.648Z"
   },
   {
    "duration": 5,
    "start_time": "2024-06-24T21:07:41.850Z"
   },
   {
    "duration": 9,
    "start_time": "2024-06-24T21:07:42.062Z"
   },
   {
    "duration": 3,
    "start_time": "2024-06-24T21:07:42.278Z"
   },
   {
    "duration": 5,
    "start_time": "2024-06-24T21:07:43.280Z"
   },
   {
    "duration": 8,
    "start_time": "2024-06-24T21:10:29.603Z"
   },
   {
    "duration": 5,
    "start_time": "2024-06-24T21:10:31.649Z"
   },
   {
    "duration": 4,
    "start_time": "2024-06-24T21:11:31.905Z"
   },
   {
    "duration": 5,
    "start_time": "2024-06-24T21:11:41.654Z"
   },
   {
    "duration": 5,
    "start_time": "2024-06-24T21:11:52.831Z"
   },
   {
    "duration": 4,
    "start_time": "2024-06-24T21:11:55.391Z"
   },
   {
    "duration": 5,
    "start_time": "2024-06-24T21:12:06.048Z"
   },
   {
    "duration": 5,
    "start_time": "2024-06-24T21:12:12.991Z"
   },
   {
    "duration": 10,
    "start_time": "2024-06-24T21:12:13.504Z"
   },
   {
    "duration": 5,
    "start_time": "2024-06-24T21:12:16.042Z"
   },
   {
    "duration": 5,
    "start_time": "2024-06-24T21:12:17.539Z"
   },
   {
    "duration": 5,
    "start_time": "2024-06-24T21:13:38.607Z"
   },
   {
    "duration": 7,
    "start_time": "2024-06-24T21:13:39.350Z"
   },
   {
    "duration": 5,
    "start_time": "2024-06-24T21:14:55.166Z"
   },
   {
    "duration": 8,
    "start_time": "2024-06-24T21:14:57.503Z"
   },
   {
    "duration": 4,
    "start_time": "2024-06-24T21:18:36.815Z"
   },
   {
    "duration": 42,
    "start_time": "2024-06-25T09:13:26.975Z"
   },
   {
    "duration": 1227,
    "start_time": "2024-06-25T09:13:35.104Z"
   },
   {
    "duration": 209,
    "start_time": "2024-06-25T09:13:36.332Z"
   },
   {
    "duration": 10,
    "start_time": "2024-06-25T09:13:36.542Z"
   },
   {
    "duration": 14,
    "start_time": "2024-06-25T09:13:36.554Z"
   },
   {
    "duration": 20,
    "start_time": "2024-06-25T09:13:36.569Z"
   },
   {
    "duration": 13,
    "start_time": "2024-06-25T09:13:39.385Z"
   },
   {
    "duration": 16,
    "start_time": "2024-06-25T09:13:39.400Z"
   },
   {
    "duration": 9,
    "start_time": "2024-06-25T09:13:39.417Z"
   },
   {
    "duration": 192,
    "start_time": "2024-06-25T09:13:39.428Z"
   },
   {
    "duration": 315,
    "start_time": "2024-06-25T09:13:39.888Z"
   },
   {
    "duration": 292,
    "start_time": "2024-06-25T09:13:40.205Z"
   },
   {
    "duration": 6,
    "start_time": "2024-06-25T09:13:40.773Z"
   },
   {
    "duration": 16,
    "start_time": "2024-06-25T09:13:40.780Z"
   },
   {
    "duration": 6,
    "start_time": "2024-06-25T09:13:41.041Z"
   },
   {
    "duration": 14,
    "start_time": "2024-06-25T09:13:41.049Z"
   },
   {
    "duration": 4,
    "start_time": "2024-06-25T09:13:41.186Z"
   },
   {
    "duration": 4,
    "start_time": "2024-06-25T09:13:41.366Z"
   },
   {
    "duration": 3,
    "start_time": "2024-06-25T09:13:41.568Z"
   },
   {
    "duration": 6,
    "start_time": "2024-06-25T09:13:41.783Z"
   },
   {
    "duration": 4,
    "start_time": "2024-06-25T09:13:42.174Z"
   },
   {
    "duration": 5,
    "start_time": "2024-06-25T09:13:42.180Z"
   },
   {
    "duration": 5,
    "start_time": "2024-06-25T09:13:42.343Z"
   },
   {
    "duration": 4,
    "start_time": "2024-06-25T09:13:42.516Z"
   },
   {
    "duration": 4,
    "start_time": "2024-06-25T09:13:42.900Z"
   },
   {
    "duration": 3,
    "start_time": "2024-06-25T09:13:43.094Z"
   },
   {
    "duration": 102,
    "start_time": "2024-06-25T09:13:43.273Z"
   },
   {
    "duration": 130,
    "start_time": "2024-06-25T09:13:43.468Z"
   },
   {
    "duration": 6,
    "start_time": "2024-06-25T09:13:43.657Z"
   },
   {
    "duration": 129,
    "start_time": "2024-06-25T09:13:43.844Z"
   },
   {
    "duration": 8,
    "start_time": "2024-06-25T09:13:44.058Z"
   },
   {
    "duration": 179,
    "start_time": "2024-06-25T09:13:44.289Z"
   },
   {
    "duration": 6,
    "start_time": "2024-06-25T09:13:44.469Z"
   },
   {
    "duration": 238,
    "start_time": "2024-06-25T09:13:44.632Z"
   },
   {
    "duration": 13,
    "start_time": "2024-06-25T09:13:45.027Z"
   },
   {
    "duration": 21,
    "start_time": "2024-06-25T09:13:45.191Z"
   },
   {
    "duration": 18,
    "start_time": "2024-06-25T09:13:45.395Z"
   },
   {
    "duration": 15,
    "start_time": "2024-06-25T09:13:45.760Z"
   },
   {
    "duration": 222,
    "start_time": "2024-06-25T09:13:45.936Z"
   },
   {
    "duration": 230,
    "start_time": "2024-06-25T09:13:46.160Z"
   },
   {
    "duration": 32,
    "start_time": "2024-06-25T09:13:46.716Z"
   },
   {
    "duration": 7,
    "start_time": "2024-06-25T09:13:46.929Z"
   },
   {
    "duration": 3,
    "start_time": "2024-06-25T09:57:57.493Z"
   },
   {
    "duration": 64,
    "start_time": "2024-06-25T09:57:57.735Z"
   },
   {
    "duration": 8,
    "start_time": "2024-06-25T09:57:57.937Z"
   },
   {
    "duration": 7,
    "start_time": "2024-06-25T09:57:58.127Z"
   },
   {
    "duration": 7,
    "start_time": "2024-06-25T09:57:58.325Z"
   },
   {
    "duration": 8,
    "start_time": "2024-06-25T09:57:58.517Z"
   },
   {
    "duration": 9,
    "start_time": "2024-06-25T09:57:58.699Z"
   },
   {
    "duration": 8,
    "start_time": "2024-06-25T09:57:59.067Z"
   },
   {
    "duration": 218,
    "start_time": "2024-06-25T09:57:59.256Z"
   },
   {
    "duration": 368,
    "start_time": "2024-06-25T09:57:59.475Z"
   },
   {
    "duration": 311,
    "start_time": "2024-06-25T09:57:59.845Z"
   },
   {
    "duration": 6,
    "start_time": "2024-06-25T09:58:00.195Z"
   },
   {
    "duration": 9,
    "start_time": "2024-06-25T09:58:00.358Z"
   },
   {
    "duration": 8,
    "start_time": "2024-06-25T09:58:00.517Z"
   },
   {
    "duration": 8,
    "start_time": "2024-06-25T09:58:00.703Z"
   },
   {
    "duration": 5,
    "start_time": "2024-06-25T09:58:00.877Z"
   },
   {
    "duration": 36,
    "start_time": "2024-06-25T09:58:01.033Z"
   },
   {
    "duration": 3,
    "start_time": "2024-06-25T09:58:01.237Z"
   },
   {
    "duration": 6,
    "start_time": "2024-06-25T09:58:01.414Z"
   },
   {
    "duration": 4,
    "start_time": "2024-06-25T09:58:01.600Z"
   },
   {
    "duration": 4,
    "start_time": "2024-06-25T09:58:01.794Z"
   },
   {
    "duration": 5,
    "start_time": "2024-06-25T09:58:01.959Z"
   },
   {
    "duration": 4,
    "start_time": "2024-06-25T09:58:02.130Z"
   },
   {
    "duration": 4,
    "start_time": "2024-06-25T09:58:02.495Z"
   },
   {
    "duration": 3,
    "start_time": "2024-06-25T09:58:02.670Z"
   },
   {
    "duration": 130,
    "start_time": "2024-06-25T09:58:02.995Z"
   },
   {
    "duration": 143,
    "start_time": "2024-06-25T09:58:03.198Z"
   },
   {
    "duration": 6,
    "start_time": "2024-06-25T09:58:03.407Z"
   },
   {
    "duration": 218,
    "start_time": "2024-06-25T09:58:03.600Z"
   },
   {
    "duration": 7,
    "start_time": "2024-06-25T09:58:03.819Z"
   },
   {
    "duration": 180,
    "start_time": "2024-06-25T09:58:04.033Z"
   },
   {
    "duration": 7,
    "start_time": "2024-06-25T09:58:04.215Z"
   },
   {
    "duration": 165,
    "start_time": "2024-06-25T09:58:04.361Z"
   },
   {
    "duration": 13,
    "start_time": "2024-06-25T09:58:04.741Z"
   },
   {
    "duration": 16,
    "start_time": "2024-06-25T09:58:04.911Z"
   },
   {
    "duration": 23,
    "start_time": "2024-06-25T09:58:05.105Z"
   },
   {
    "duration": 21,
    "start_time": "2024-06-25T09:58:05.286Z"
   },
   {
    "duration": 222,
    "start_time": "2024-06-25T09:58:05.466Z"
   },
   {
    "duration": 221,
    "start_time": "2024-06-25T09:58:05.689Z"
   },
   {
    "duration": 31,
    "start_time": "2024-06-25T09:58:06.269Z"
   },
   {
    "duration": 7,
    "start_time": "2024-06-25T09:58:06.521Z"
   },
   {
    "duration": 3,
    "start_time": "2024-06-25T09:58:06.973Z"
   },
   {
    "duration": 4,
    "start_time": "2024-06-25T09:58:07.195Z"
   },
   {
    "duration": 9,
    "start_time": "2024-06-25T09:58:07.401Z"
   },
   {
    "duration": 3,
    "start_time": "2024-06-25T09:58:07.699Z"
   },
   {
    "duration": 4,
    "start_time": "2024-06-25T09:58:09.861Z"
   },
   {
    "duration": 5,
    "start_time": "2024-06-25T09:58:11.015Z"
   },
   {
    "duration": 5,
    "start_time": "2024-06-25T09:58:11.262Z"
   },
   {
    "duration": 58,
    "start_time": "2024-06-25T09:58:11.725Z"
   },
   {
    "duration": 1114,
    "start_time": "2024-06-25T10:55:04.973Z"
   },
   {
    "duration": 1057,
    "start_time": "2024-06-25T10:55:19.628Z"
   },
   {
    "duration": 978,
    "start_time": "2024-06-25T11:09:14.145Z"
   },
   {
    "duration": 1023,
    "start_time": "2024-06-25T11:10:22.079Z"
   },
   {
    "duration": 1049,
    "start_time": "2024-06-25T11:10:30.646Z"
   },
   {
    "duration": 1013,
    "start_time": "2024-06-25T11:10:43.768Z"
   },
   {
    "duration": 1028,
    "start_time": "2024-06-25T11:25:28.459Z"
   },
   {
    "duration": 997,
    "start_time": "2024-06-25T11:26:12.183Z"
   },
   {
    "duration": 4,
    "start_time": "2024-06-25T11:33:09.914Z"
   },
   {
    "duration": 7,
    "start_time": "2024-06-25T11:33:28.848Z"
   },
   {
    "duration": 5,
    "start_time": "2024-06-25T11:33:38.362Z"
   },
   {
    "duration": 72,
    "start_time": "2024-06-25T11:35:13.244Z"
   },
   {
    "duration": 77,
    "start_time": "2024-06-25T11:35:33.014Z"
   },
   {
    "duration": 58,
    "start_time": "2024-06-25T11:35:42.677Z"
   },
   {
    "duration": 3,
    "start_time": "2024-06-25T11:35:47.500Z"
   },
   {
    "duration": 63,
    "start_time": "2024-06-25T11:35:47.909Z"
   },
   {
    "duration": 7,
    "start_time": "2024-06-25T11:35:48.177Z"
   },
   {
    "duration": 8,
    "start_time": "2024-06-25T11:35:48.365Z"
   },
   {
    "duration": 7,
    "start_time": "2024-06-25T11:35:48.563Z"
   },
   {
    "duration": 18,
    "start_time": "2024-06-25T11:35:48.767Z"
   },
   {
    "duration": 12,
    "start_time": "2024-06-25T11:35:48.946Z"
   },
   {
    "duration": 9,
    "start_time": "2024-06-25T11:35:49.137Z"
   },
   {
    "duration": 201,
    "start_time": "2024-06-25T11:35:49.350Z"
   },
   {
    "duration": 393,
    "start_time": "2024-06-25T11:35:49.681Z"
   },
   {
    "duration": 379,
    "start_time": "2024-06-25T11:35:50.076Z"
   },
   {
    "duration": 8,
    "start_time": "2024-06-25T11:35:50.457Z"
   },
   {
    "duration": 37,
    "start_time": "2024-06-25T11:35:50.466Z"
   },
   {
    "duration": 6,
    "start_time": "2024-06-25T11:35:50.620Z"
   },
   {
    "duration": 6,
    "start_time": "2024-06-25T11:35:50.809Z"
   },
   {
    "duration": 4,
    "start_time": "2024-06-25T11:35:51.008Z"
   },
   {
    "duration": 3,
    "start_time": "2024-06-25T11:35:51.181Z"
   },
   {
    "duration": 4,
    "start_time": "2024-06-25T11:35:51.365Z"
   },
   {
    "duration": 6,
    "start_time": "2024-06-25T11:35:51.538Z"
   },
   {
    "duration": 4,
    "start_time": "2024-06-25T11:35:51.705Z"
   },
   {
    "duration": 4,
    "start_time": "2024-06-25T11:35:51.870Z"
   },
   {
    "duration": 4,
    "start_time": "2024-06-25T11:35:52.053Z"
   },
   {
    "duration": 3,
    "start_time": "2024-06-25T11:35:52.237Z"
   },
   {
    "duration": 4,
    "start_time": "2024-06-25T11:35:52.590Z"
   },
   {
    "duration": 3,
    "start_time": "2024-06-25T11:35:52.759Z"
   },
   {
    "duration": 203,
    "start_time": "2024-06-25T11:35:52.939Z"
   },
   {
    "duration": 174,
    "start_time": "2024-06-25T11:35:53.143Z"
   },
   {
    "duration": 9,
    "start_time": "2024-06-25T11:35:53.319Z"
   },
   {
    "duration": 166,
    "start_time": "2024-06-25T11:35:53.483Z"
   },
   {
    "duration": 7,
    "start_time": "2024-06-25T11:35:53.651Z"
   },
   {
    "duration": 181,
    "start_time": "2024-06-25T11:35:53.847Z"
   },
   {
    "duration": 6,
    "start_time": "2024-06-25T11:35:54.030Z"
   },
   {
    "duration": 173,
    "start_time": "2024-06-25T11:35:54.211Z"
   },
   {
    "duration": 19,
    "start_time": "2024-06-25T11:35:54.648Z"
   },
   {
    "duration": 20,
    "start_time": "2024-06-25T11:35:54.801Z"
   },
   {
    "duration": 20,
    "start_time": "2024-06-25T11:35:54.945Z"
   },
   {
    "duration": 17,
    "start_time": "2024-06-25T11:35:55.115Z"
   },
   {
    "duration": 228,
    "start_time": "2024-06-25T11:35:55.295Z"
   },
   {
    "duration": 225,
    "start_time": "2024-06-25T11:35:55.524Z"
   },
   {
    "duration": 60,
    "start_time": "2024-06-25T11:35:56.547Z"
   },
   {
    "duration": 314,
    "start_time": "2024-06-25T11:38:19.656Z"
   },
   {
    "duration": 35,
    "start_time": "2024-06-25T11:38:42.553Z"
   },
   {
    "duration": 8,
    "start_time": "2024-06-25T11:38:44.554Z"
   },
   {
    "duration": 2,
    "start_time": "2024-06-25T11:38:46.738Z"
   },
   {
    "duration": 6,
    "start_time": "2024-06-25T11:38:47.036Z"
   },
   {
    "duration": 12,
    "start_time": "2024-06-25T11:38:47.227Z"
   },
   {
    "duration": 3,
    "start_time": "2024-06-25T11:38:48.306Z"
   },
   {
    "duration": 4,
    "start_time": "2024-06-25T11:38:57.742Z"
   },
   {
    "duration": 6,
    "start_time": "2024-06-25T11:38:59.222Z"
   },
   {
    "duration": 1007,
    "start_time": "2024-06-25T11:39:00.439Z"
   },
   {
    "duration": 15,
    "start_time": "2024-06-25T11:39:20.172Z"
   },
   {
    "duration": 9,
    "start_time": "2024-06-25T11:39:36.364Z"
   },
   {
    "duration": 9,
    "start_time": "2024-06-25T11:39:44.751Z"
   },
   {
    "duration": 2,
    "start_time": "2024-06-25T11:44:35.984Z"
   },
   {
    "duration": 3,
    "start_time": "2024-06-25T11:44:36.232Z"
   },
   {
    "duration": 9,
    "start_time": "2024-06-25T11:44:36.668Z"
   },
   {
    "duration": 4,
    "start_time": "2024-06-25T11:44:37.016Z"
   },
   {
    "duration": 5,
    "start_time": "2024-06-25T11:44:37.964Z"
   },
   {
    "duration": 4,
    "start_time": "2024-06-25T11:44:39.148Z"
   },
   {
    "duration": 1047,
    "start_time": "2024-06-25T11:44:44.186Z"
   },
   {
    "duration": 7,
    "start_time": "2024-06-25T11:47:10.423Z"
   },
   {
    "duration": 6,
    "start_time": "2024-06-25T12:08:18.937Z"
   },
   {
    "duration": 7,
    "start_time": "2024-06-25T12:08:39.651Z"
   },
   {
    "duration": 8,
    "start_time": "2024-06-25T12:09:49.756Z"
   },
   {
    "duration": 7,
    "start_time": "2024-06-25T12:10:02.154Z"
   },
   {
    "duration": 6,
    "start_time": "2024-06-25T12:16:52.574Z"
   },
   {
    "duration": 4,
    "start_time": "2024-06-25T12:17:16.769Z"
   },
   {
    "duration": 6,
    "start_time": "2024-06-25T12:17:17.587Z"
   },
   {
    "duration": 6,
    "start_time": "2024-06-25T12:17:33.441Z"
   },
   {
    "duration": 66,
    "start_time": "2024-06-25T12:17:45.206Z"
   },
   {
    "duration": 6,
    "start_time": "2024-06-25T12:17:54.916Z"
   },
   {
    "duration": 5,
    "start_time": "2024-06-25T12:18:16.379Z"
   },
   {
    "duration": 3,
    "start_time": "2024-06-25T12:21:08.936Z"
   },
   {
    "duration": 3,
    "start_time": "2024-06-25T12:21:18.504Z"
   },
   {
    "duration": 8,
    "start_time": "2024-06-25T12:21:22.652Z"
   },
   {
    "duration": 7,
    "start_time": "2024-06-25T12:21:45.423Z"
   },
   {
    "duration": 9,
    "start_time": "2024-06-25T12:21:46.132Z"
   },
   {
    "duration": 7,
    "start_time": "2024-06-25T12:21:57.218Z"
   },
   {
    "duration": 8,
    "start_time": "2024-06-25T12:22:25.592Z"
   },
   {
    "duration": 5,
    "start_time": "2024-06-25T12:23:28.378Z"
   },
   {
    "duration": 5,
    "start_time": "2024-06-25T12:25:25.077Z"
   },
   {
    "duration": 4,
    "start_time": "2024-06-25T12:25:39.470Z"
   },
   {
    "duration": 6,
    "start_time": "2024-06-25T12:26:00.569Z"
   },
   {
    "duration": 5,
    "start_time": "2024-06-25T13:01:02.903Z"
   },
   {
    "duration": 5,
    "start_time": "2024-06-25T13:01:03.210Z"
   },
   {
    "duration": 2,
    "start_time": "2024-06-25T13:01:15.298Z"
   },
   {
    "duration": 76,
    "start_time": "2024-06-25T13:01:15.773Z"
   },
   {
    "duration": 7,
    "start_time": "2024-06-25T13:01:16.414Z"
   },
   {
    "duration": 9,
    "start_time": "2024-06-25T13:01:16.948Z"
   },
   {
    "duration": 7,
    "start_time": "2024-06-25T13:01:17.358Z"
   },
   {
    "duration": 9,
    "start_time": "2024-06-25T13:01:17.768Z"
   },
   {
    "duration": 12,
    "start_time": "2024-06-25T13:01:18.221Z"
   },
   {
    "duration": 11,
    "start_time": "2024-06-25T13:01:18.762Z"
   },
   {
    "duration": 212,
    "start_time": "2024-06-25T13:01:19.357Z"
   },
   {
    "duration": 365,
    "start_time": "2024-06-25T13:01:19.869Z"
   },
   {
    "duration": 422,
    "start_time": "2024-06-25T13:01:20.297Z"
   },
   {
    "duration": 7,
    "start_time": "2024-06-25T13:01:21.349Z"
   },
   {
    "duration": 8,
    "start_time": "2024-06-25T13:01:21.920Z"
   },
   {
    "duration": 6,
    "start_time": "2024-06-25T13:01:22.426Z"
   },
   {
    "duration": 7,
    "start_time": "2024-06-25T13:01:22.891Z"
   },
   {
    "duration": 4,
    "start_time": "2024-06-25T13:01:23.391Z"
   },
   {
    "duration": 4,
    "start_time": "2024-06-25T13:01:23.843Z"
   },
   {
    "duration": 4,
    "start_time": "2024-06-25T13:01:24.299Z"
   },
   {
    "duration": 8,
    "start_time": "2024-06-25T13:01:24.820Z"
   },
   {
    "duration": 6,
    "start_time": "2024-06-25T13:01:25.350Z"
   },
   {
    "duration": 5,
    "start_time": "2024-06-25T13:01:25.807Z"
   },
   {
    "duration": 5,
    "start_time": "2024-06-25T13:01:26.286Z"
   },
   {
    "duration": 5,
    "start_time": "2024-06-25T13:01:26.882Z"
   },
   {
    "duration": 4,
    "start_time": "2024-06-25T13:04:18.229Z"
   },
   {
    "duration": 5,
    "start_time": "2024-06-25T13:04:18.578Z"
   },
   {
    "duration": 4,
    "start_time": "2024-06-25T13:04:19.008Z"
   },
   {
    "duration": 390,
    "start_time": "2024-06-25T13:07:29.191Z"
   },
   {
    "duration": 4,
    "start_time": "2024-06-25T13:29:55.778Z"
   },
   {
    "duration": 3,
    "start_time": "2024-06-25T13:29:56.286Z"
   },
   {
    "duration": 4,
    "start_time": "2024-06-25T13:30:29.158Z"
   },
   {
    "duration": 5,
    "start_time": "2024-06-25T13:30:29.574Z"
   },
   {
    "duration": 6,
    "start_time": "2024-06-25T13:30:30.266Z"
   },
   {
    "duration": 5,
    "start_time": "2024-06-25T13:30:31.024Z"
   },
   {
    "duration": 6,
    "start_time": "2024-06-25T13:30:31.699Z"
   },
   {
    "duration": 6,
    "start_time": "2024-06-25T13:30:32.227Z"
   },
   {
    "duration": 5,
    "start_time": "2024-06-25T13:30:32.772Z"
   },
   {
    "duration": 4,
    "start_time": "2024-06-25T13:30:33.435Z"
   },
   {
    "duration": 223,
    "start_time": "2024-06-25T13:43:03.184Z"
   },
   {
    "duration": 217,
    "start_time": "2024-06-25T13:43:09.287Z"
   },
   {
    "duration": 300,
    "start_time": "2024-06-25T13:43:46.408Z"
   },
   {
    "duration": 223,
    "start_time": "2024-06-25T13:54:50.974Z"
   },
   {
    "duration": 263,
    "start_time": "2024-06-25T13:55:04.695Z"
   },
   {
    "duration": 218,
    "start_time": "2024-06-25T13:55:14.559Z"
   },
   {
    "duration": 1351,
    "start_time": "2024-06-25T19:42:51.704Z"
   },
   {
    "duration": 206,
    "start_time": "2024-06-25T19:42:53.057Z"
   },
   {
    "duration": 12,
    "start_time": "2024-06-25T19:42:53.264Z"
   },
   {
    "duration": 8,
    "start_time": "2024-06-25T19:42:55.922Z"
   },
   {
    "duration": 7,
    "start_time": "2024-06-25T19:42:55.931Z"
   },
   {
    "duration": 10,
    "start_time": "2024-06-25T19:42:55.939Z"
   },
   {
    "duration": 13,
    "start_time": "2024-06-25T19:42:55.950Z"
   },
   {
    "duration": 10,
    "start_time": "2024-06-25T19:42:56.133Z"
   },
   {
    "duration": 210,
    "start_time": "2024-06-25T19:42:56.244Z"
   },
   {
    "duration": 387,
    "start_time": "2024-06-25T19:42:56.489Z"
   },
   {
    "duration": 7,
    "start_time": "2024-06-25T19:42:58.509Z"
   },
   {
    "duration": 9,
    "start_time": "2024-06-25T19:42:58.954Z"
   },
   {
    "duration": 9,
    "start_time": "2024-06-25T19:42:59.354Z"
   },
   {
    "duration": 10,
    "start_time": "2024-06-25T19:42:59.788Z"
   },
   {
    "duration": 5,
    "start_time": "2024-06-25T19:42:59.982Z"
   },
   {
    "duration": 5,
    "start_time": "2024-06-25T19:43:00.163Z"
   },
   {
    "duration": 4,
    "start_time": "2024-06-25T19:43:00.360Z"
   },
   {
    "duration": 7,
    "start_time": "2024-06-25T19:43:00.705Z"
   },
   {
    "duration": 5,
    "start_time": "2024-06-25T19:43:00.942Z"
   },
   {
    "duration": 5,
    "start_time": "2024-06-25T19:43:01.190Z"
   },
   {
    "duration": 6,
    "start_time": "2024-06-25T19:43:01.436Z"
   },
   {
    "duration": 4,
    "start_time": "2024-06-25T19:43:01.740Z"
   },
   {
    "duration": 4,
    "start_time": "2024-06-25T19:43:03.242Z"
   },
   {
    "duration": 3,
    "start_time": "2024-06-25T19:43:05.432Z"
   },
   {
    "duration": 125,
    "start_time": "2024-06-25T19:43:06.219Z"
   },
   {
    "duration": 149,
    "start_time": "2024-06-25T19:43:09.113Z"
   },
   {
    "duration": 7,
    "start_time": "2024-06-25T19:43:11.923Z"
   },
   {
    "duration": 4,
    "start_time": "2024-06-25T19:43:29.386Z"
   },
   {
    "duration": 8,
    "start_time": "2024-06-25T19:43:37.862Z"
   },
   {
    "duration": 220,
    "start_time": "2024-06-25T19:43:42.868Z"
   },
   {
    "duration": 7,
    "start_time": "2024-06-25T19:43:53.048Z"
   },
   {
    "duration": 218,
    "start_time": "2024-06-25T19:43:53.739Z"
   },
   {
    "duration": 186,
    "start_time": "2024-06-25T19:44:14.949Z"
   },
   {
    "duration": 274,
    "start_time": "2024-06-25T19:44:29.040Z"
   },
   {
    "duration": 198,
    "start_time": "2024-06-25T19:45:24.416Z"
   },
   {
    "duration": 240,
    "start_time": "2024-06-25T20:10:39.400Z"
   },
   {
    "duration": 289,
    "start_time": "2024-06-25T20:11:11.865Z"
   },
   {
    "duration": 200,
    "start_time": "2024-06-25T20:11:17.445Z"
   },
   {
    "duration": 199,
    "start_time": "2024-06-25T20:11:23.409Z"
   },
   {
    "duration": 200,
    "start_time": "2024-06-25T20:11:53.313Z"
   },
   {
    "duration": 213,
    "start_time": "2024-06-25T20:11:59.741Z"
   },
   {
    "duration": 187,
    "start_time": "2024-06-25T20:12:09.307Z"
   },
   {
    "duration": 187,
    "start_time": "2024-06-25T20:13:30.890Z"
   },
   {
    "duration": 278,
    "start_time": "2024-06-25T20:13:35.503Z"
   },
   {
    "duration": 287,
    "start_time": "2024-06-25T20:13:40.109Z"
   },
   {
    "duration": 167,
    "start_time": "2024-06-25T20:13:49.205Z"
   },
   {
    "duration": 172,
    "start_time": "2024-06-25T20:13:56.104Z"
   },
   {
    "duration": 218,
    "start_time": "2024-06-25T20:19:53.006Z"
   },
   {
    "duration": 203,
    "start_time": "2024-06-25T20:20:02.440Z"
   },
   {
    "duration": 178,
    "start_time": "2024-06-25T20:20:08.530Z"
   },
   {
    "duration": 230,
    "start_time": "2024-06-25T20:20:17.619Z"
   },
   {
    "duration": 94,
    "start_time": "2024-06-25T20:26:45.139Z"
   },
   {
    "duration": 3,
    "start_time": "2024-06-25T20:26:54.779Z"
   },
   {
    "duration": 66,
    "start_time": "2024-06-25T20:26:55.506Z"
   },
   {
    "duration": 8,
    "start_time": "2024-06-25T20:26:55.765Z"
   },
   {
    "duration": 8,
    "start_time": "2024-06-25T20:26:55.974Z"
   },
   {
    "duration": 6,
    "start_time": "2024-06-25T20:26:56.168Z"
   },
   {
    "duration": 10,
    "start_time": "2024-06-25T20:26:56.321Z"
   },
   {
    "duration": 10,
    "start_time": "2024-06-25T20:26:56.500Z"
   },
   {
    "duration": 9,
    "start_time": "2024-06-25T20:26:56.677Z"
   },
   {
    "duration": 239,
    "start_time": "2024-06-25T20:26:56.855Z"
   },
   {
    "duration": 569,
    "start_time": "2024-06-25T20:26:57.096Z"
   },
   {
    "duration": 10,
    "start_time": "2024-06-25T20:26:57.668Z"
   },
   {
    "duration": 8,
    "start_time": "2024-06-25T20:26:57.744Z"
   },
   {
    "duration": 6,
    "start_time": "2024-06-25T20:26:57.931Z"
   },
   {
    "duration": 7,
    "start_time": "2024-06-25T20:26:59.677Z"
   },
   {
    "duration": 5,
    "start_time": "2024-06-25T20:26:59.886Z"
   },
   {
    "duration": 4,
    "start_time": "2024-06-25T20:27:00.071Z"
   },
   {
    "duration": 4,
    "start_time": "2024-06-25T20:27:00.255Z"
   },
   {
    "duration": 7,
    "start_time": "2024-06-25T20:27:00.427Z"
   },
   {
    "duration": 6,
    "start_time": "2024-06-25T20:27:00.603Z"
   },
   {
    "duration": 6,
    "start_time": "2024-06-25T20:27:00.789Z"
   },
   {
    "duration": 5,
    "start_time": "2024-06-25T20:27:00.981Z"
   },
   {
    "duration": 4,
    "start_time": "2024-06-25T20:27:01.165Z"
   },
   {
    "duration": 4,
    "start_time": "2024-06-25T20:27:01.901Z"
   },
   {
    "duration": 4,
    "start_time": "2024-06-25T20:27:02.073Z"
   },
   {
    "duration": 154,
    "start_time": "2024-06-25T20:27:02.259Z"
   },
   {
    "duration": 148,
    "start_time": "2024-06-25T20:27:02.788Z"
   },
   {
    "duration": 8,
    "start_time": "2024-06-25T20:27:03.342Z"
   },
   {
    "duration": 200,
    "start_time": "2024-06-25T20:27:03.523Z"
   },
   {
    "duration": 12,
    "start_time": "2024-06-25T20:27:04.061Z"
   },
   {
    "duration": 190,
    "start_time": "2024-06-25T20:27:04.243Z"
   },
   {
    "duration": 9,
    "start_time": "2024-06-25T20:27:04.745Z"
   },
   {
    "duration": 213,
    "start_time": "2024-06-25T20:27:04.945Z"
   },
   {
    "duration": 188,
    "start_time": "2024-06-25T20:27:05.160Z"
   },
   {
    "duration": 15,
    "start_time": "2024-06-25T20:27:06.122Z"
   },
   {
    "duration": 19,
    "start_time": "2024-06-25T20:27:06.319Z"
   },
   {
    "duration": 19,
    "start_time": "2024-06-25T20:27:06.720Z"
   },
   {
    "duration": 22,
    "start_time": "2024-06-25T20:27:06.905Z"
   },
   {
    "duration": 272,
    "start_time": "2024-06-25T20:27:07.314Z"
   },
   {
    "duration": 284,
    "start_time": "2024-06-25T20:27:07.588Z"
   },
   {
    "duration": 41,
    "start_time": "2024-06-25T20:27:08.203Z"
   },
   {
    "duration": 9,
    "start_time": "2024-06-25T20:27:08.477Z"
   },
   {
    "duration": 3,
    "start_time": "2024-06-25T20:27:08.865Z"
   },
   {
    "duration": 6,
    "start_time": "2024-06-25T20:27:09.074Z"
   },
   {
    "duration": 10,
    "start_time": "2024-06-25T20:27:09.281Z"
   },
   {
    "duration": 5,
    "start_time": "2024-06-25T20:27:09.468Z"
   },
   {
    "duration": 5,
    "start_time": "2024-06-25T20:27:10.158Z"
   },
   {
    "duration": 1262,
    "start_time": "2024-06-26T04:17:09.818Z"
   },
   {
    "duration": 219,
    "start_time": "2024-06-26T04:17:11.082Z"
   },
   {
    "duration": 11,
    "start_time": "2024-06-26T04:17:11.303Z"
   },
   {
    "duration": 8,
    "start_time": "2024-06-26T04:17:11.316Z"
   },
   {
    "duration": 10,
    "start_time": "2024-06-26T04:17:11.325Z"
   },
   {
    "duration": 10,
    "start_time": "2024-06-26T04:17:11.336Z"
   },
   {
    "duration": 18,
    "start_time": "2024-06-26T04:17:11.347Z"
   },
   {
    "duration": 29,
    "start_time": "2024-06-26T04:17:11.367Z"
   },
   {
    "duration": 213,
    "start_time": "2024-06-26T04:17:11.398Z"
   },
   {
    "duration": 377,
    "start_time": "2024-06-26T04:17:11.615Z"
   },
   {
    "duration": 7,
    "start_time": "2024-06-26T04:17:11.994Z"
   },
   {
    "duration": 9,
    "start_time": "2024-06-26T04:17:12.003Z"
   },
   {
    "duration": 7,
    "start_time": "2024-06-26T04:17:12.013Z"
   },
   {
    "duration": 7,
    "start_time": "2024-06-26T04:17:12.022Z"
   },
   {
    "duration": 35,
    "start_time": "2024-06-26T04:17:12.030Z"
   },
   {
    "duration": 4,
    "start_time": "2024-06-26T04:17:12.067Z"
   },
   {
    "duration": 9,
    "start_time": "2024-06-26T04:17:12.072Z"
   },
   {
    "duration": 22,
    "start_time": "2024-06-26T04:17:12.082Z"
   },
   {
    "duration": 4,
    "start_time": "2024-06-26T04:17:12.106Z"
   },
   {
    "duration": 17,
    "start_time": "2024-06-26T04:17:12.111Z"
   },
   {
    "duration": 5,
    "start_time": "2024-06-26T04:17:12.129Z"
   },
   {
    "duration": 17,
    "start_time": "2024-06-26T04:17:12.135Z"
   },
   {
    "duration": 23,
    "start_time": "2024-06-26T04:17:12.154Z"
   },
   {
    "duration": 8,
    "start_time": "2024-06-26T04:17:12.178Z"
   },
   {
    "duration": 125,
    "start_time": "2024-06-26T04:17:12.188Z"
   },
   {
    "duration": 163,
    "start_time": "2024-06-26T04:17:12.314Z"
   },
   {
    "duration": 7,
    "start_time": "2024-06-26T04:17:12.479Z"
   },
   {
    "duration": 180,
    "start_time": "2024-06-26T04:17:12.489Z"
   },
   {
    "duration": 7,
    "start_time": "2024-06-26T04:17:12.671Z"
   },
   {
    "duration": 202,
    "start_time": "2024-06-26T04:17:12.679Z"
   },
   {
    "duration": 8,
    "start_time": "2024-06-26T04:17:12.882Z"
   },
   {
    "duration": 209,
    "start_time": "2024-06-26T04:17:12.891Z"
   },
   {
    "duration": 191,
    "start_time": "2024-06-26T04:17:13.102Z"
   },
   {
    "duration": 16,
    "start_time": "2024-06-26T04:17:13.295Z"
   },
   {
    "duration": 18,
    "start_time": "2024-06-26T04:17:13.313Z"
   },
   {
    "duration": 40,
    "start_time": "2024-06-26T04:17:13.332Z"
   },
   {
    "duration": 17,
    "start_time": "2024-06-26T04:17:13.373Z"
   },
   {
    "duration": 342,
    "start_time": "2024-06-26T04:17:13.392Z"
   },
   {
    "duration": 263,
    "start_time": "2024-06-26T04:17:13.736Z"
   },
   {
    "duration": 41,
    "start_time": "2024-06-26T04:17:14.000Z"
   },
   {
    "duration": 9,
    "start_time": "2024-06-26T04:17:14.042Z"
   },
   {
    "duration": 14,
    "start_time": "2024-06-26T04:17:14.052Z"
   },
   {
    "duration": 9,
    "start_time": "2024-06-26T04:17:14.067Z"
   },
   {
    "duration": 9,
    "start_time": "2024-06-26T04:17:14.078Z"
   },
   {
    "duration": 6,
    "start_time": "2024-06-26T04:17:14.089Z"
   },
   {
    "duration": 5,
    "start_time": "2024-06-26T04:17:14.097Z"
   },
   {
    "duration": 6,
    "start_time": "2024-06-26T04:17:14.103Z"
   },
   {
    "duration": 9,
    "start_time": "2024-06-26T04:17:14.111Z"
   },
   {
    "duration": 10,
    "start_time": "2024-06-26T04:19:29.454Z"
   },
   {
    "duration": 15,
    "start_time": "2024-06-26T04:19:32.842Z"
   },
   {
    "duration": 52,
    "start_time": "2024-06-26T06:36:11.285Z"
   },
   {
    "duration": 7,
    "start_time": "2024-06-26T06:36:23.963Z"
   },
   {
    "duration": 1605,
    "start_time": "2024-06-26T06:36:32.991Z"
   },
   {
    "duration": 204,
    "start_time": "2024-06-26T06:36:34.598Z"
   },
   {
    "duration": 13,
    "start_time": "2024-06-26T06:36:35.249Z"
   },
   {
    "duration": 9,
    "start_time": "2024-06-26T06:36:35.449Z"
   },
   {
    "duration": 8,
    "start_time": "2024-06-26T06:36:35.610Z"
   },
   {
    "duration": 12,
    "start_time": "2024-06-26T06:36:35.824Z"
   },
   {
    "duration": 15,
    "start_time": "2024-06-26T06:36:35.972Z"
   },
   {
    "duration": 10,
    "start_time": "2024-06-26T06:36:36.150Z"
   },
   {
    "duration": 240,
    "start_time": "2024-06-26T06:36:36.327Z"
   },
   {
    "duration": 410,
    "start_time": "2024-06-26T06:36:36.569Z"
   },
   {
    "duration": 8,
    "start_time": "2024-06-26T06:36:37.386Z"
   },
   {
    "duration": 10,
    "start_time": "2024-06-26T06:36:37.569Z"
   },
   {
    "duration": 8,
    "start_time": "2024-06-26T06:36:37.765Z"
   },
   {
    "duration": 10,
    "start_time": "2024-06-26T06:36:37.940Z"
   },
   {
    "duration": 6,
    "start_time": "2024-06-26T06:36:38.118Z"
   },
   {
    "duration": 6,
    "start_time": "2024-06-26T06:36:38.312Z"
   },
   {
    "duration": 5,
    "start_time": "2024-06-26T06:36:38.856Z"
   },
   {
    "duration": 5,
    "start_time": "2024-06-26T06:36:39.214Z"
   },
   {
    "duration": 7,
    "start_time": "2024-06-26T06:36:39.396Z"
   },
   {
    "duration": 6,
    "start_time": "2024-06-26T06:36:39.578Z"
   },
   {
    "duration": 6,
    "start_time": "2024-06-26T06:36:39.777Z"
   },
   {
    "duration": 6,
    "start_time": "2024-06-26T06:36:39.959Z"
   },
   {
    "duration": 4,
    "start_time": "2024-06-26T06:36:40.346Z"
   },
   {
    "duration": 5,
    "start_time": "2024-06-26T06:36:41.463Z"
   },
   {
    "duration": 4,
    "start_time": "2024-06-26T06:36:41.625Z"
   },
   {
    "duration": 139,
    "start_time": "2024-06-26T06:36:41.824Z"
   },
   {
    "duration": 166,
    "start_time": "2024-06-26T06:36:42.735Z"
   },
   {
    "duration": 9,
    "start_time": "2024-06-26T06:36:43.542Z"
   },
   {
    "duration": 177,
    "start_time": "2024-06-26T06:36:43.700Z"
   },
   {
    "duration": 10,
    "start_time": "2024-06-26T06:36:44.468Z"
   },
   {
    "duration": 205,
    "start_time": "2024-06-26T06:36:44.672Z"
   },
   {
    "duration": 9,
    "start_time": "2024-06-26T06:36:45.459Z"
   },
   {
    "duration": 221,
    "start_time": "2024-06-26T06:36:45.662Z"
   },
   {
    "duration": 199,
    "start_time": "2024-06-26T06:36:45.885Z"
   },
   {
    "duration": 17,
    "start_time": "2024-06-26T06:36:47.795Z"
   },
   {
    "duration": 21,
    "start_time": "2024-06-26T06:36:48.013Z"
   },
   {
    "duration": 23,
    "start_time": "2024-06-26T06:36:50.040Z"
   },
   {
    "duration": 26,
    "start_time": "2024-06-26T06:36:50.347Z"
   },
   {
    "duration": 364,
    "start_time": "2024-06-26T06:36:51.018Z"
   },
   {
    "duration": 272,
    "start_time": "2024-06-26T06:36:54.133Z"
   },
   {
    "duration": 45,
    "start_time": "2024-06-26T06:36:55.834Z"
   },
   {
    "duration": 11,
    "start_time": "2024-06-26T06:36:56.658Z"
   },
   {
    "duration": 5,
    "start_time": "2024-06-26T06:36:57.187Z"
   },
   {
    "duration": 7,
    "start_time": "2024-06-26T06:37:25.784Z"
   },
   {
    "duration": 11,
    "start_time": "2024-06-26T06:37:30.859Z"
   },
   {
    "duration": 4,
    "start_time": "2024-06-26T06:37:32.038Z"
   },
   {
    "duration": 134,
    "start_time": "2024-06-26T06:59:15.716Z"
   },
   {
    "duration": 150,
    "start_time": "2024-06-26T07:00:51.727Z"
   },
   {
    "duration": 5,
    "start_time": "2024-06-26T07:48:02.318Z"
   },
   {
    "duration": 3,
    "start_time": "2024-06-26T07:49:46.430Z"
   },
   {
    "duration": 4,
    "start_time": "2024-06-26T07:49:46.941Z"
   },
   {
    "duration": 3,
    "start_time": "2024-06-26T07:50:23.795Z"
   },
   {
    "duration": 17,
    "start_time": "2024-06-26T07:54:30.954Z"
   },
   {
    "duration": 20,
    "start_time": "2024-06-26T07:54:31.466Z"
   },
   {
    "duration": 4,
    "start_time": "2024-06-26T07:54:32.363Z"
   },
   {
    "duration": 8,
    "start_time": "2024-06-26T07:54:38.635Z"
   },
   {
    "duration": 18,
    "start_time": "2024-06-26T07:54:38.902Z"
   },
   {
    "duration": 4,
    "start_time": "2024-06-26T07:54:42.093Z"
   },
   {
    "duration": 15,
    "start_time": "2024-06-26T07:55:00.863Z"
   },
   {
    "duration": 21,
    "start_time": "2024-06-26T07:55:01.395Z"
   },
   {
    "duration": 4,
    "start_time": "2024-06-26T07:55:02.410Z"
   },
   {
    "duration": 78,
    "start_time": "2024-06-26T08:33:06.596Z"
   },
   {
    "duration": 12,
    "start_time": "2024-06-26T08:33:24.339Z"
   },
   {
    "duration": 11,
    "start_time": "2024-06-26T08:33:51.361Z"
   },
   {
    "duration": 25,
    "start_time": "2024-06-26T10:19:12.180Z"
   },
   {
    "duration": 4,
    "start_time": "2024-06-26T10:19:17.254Z"
   },
   {
    "duration": 4,
    "start_time": "2024-06-26T10:19:17.676Z"
   },
   {
    "duration": 3,
    "start_time": "2024-06-26T10:19:18.090Z"
   },
   {
    "duration": 20,
    "start_time": "2024-06-26T10:19:19.737Z"
   },
   {
    "duration": 19,
    "start_time": "2024-06-26T10:19:20.359Z"
   },
   {
    "duration": 4,
    "start_time": "2024-06-26T10:19:20.924Z"
   },
   {
    "duration": 20,
    "start_time": "2024-06-26T10:19:22.637Z"
   },
   {
    "duration": 20,
    "start_time": "2024-06-26T10:19:22.945Z"
   },
   {
    "duration": 292,
    "start_time": "2024-06-26T10:19:25.832Z"
   }
  ],
  "kernelspec": {
   "display_name": "Python 3 (ipykernel)",
   "language": "python",
   "name": "python3"
  },
  "language_info": {
   "codemirror_mode": {
    "name": "ipython",
    "version": 3
   },
   "file_extension": ".py",
   "mimetype": "text/x-python",
   "name": "python",
   "nbconvert_exporter": "python",
   "pygments_lexer": "ipython3",
   "version": "3.9.5"
  },
  "toc": {
   "base_numbering": 1,
   "nav_menu": {},
   "number_sections": true,
   "sideBar": true,
   "skip_h1_title": true,
   "title_cell": "Table of Contents",
   "title_sidebar": "Contents",
   "toc_cell": false,
   "toc_position": {},
   "toc_section_display": true,
   "toc_window_display": true
  }
 },
 "nbformat": 4,
 "nbformat_minor": 5
}
